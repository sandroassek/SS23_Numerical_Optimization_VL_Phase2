{
 "cells": [
  {
   "cell_type": "markdown",
   "id": "39640edf-f050-40dc-a932-add3165e0891",
   "metadata": {},
   "source": [
    "# Report for Project 1 Phase 2"
   ]
  },
  {
   "cell_type": "markdown",
   "id": "b46dfab4-d7c1-443b-be92-11716addd405",
   "metadata": {
    "execution": {
     "iopub.execute_input": "2023-06-07T07:42:36.860629Z",
     "iopub.status.busy": "2023-06-07T07:42:36.860629Z",
     "iopub.status.idle": "2023-06-07T07:42:36.865634Z",
     "shell.execute_reply": "2023-06-07T07:42:36.865634Z",
     "shell.execute_reply.started": "2023-06-07T07:42:36.860629Z"
    }
   },
   "source": [
    "<h3>Task 1. Newton method with Hessian modification; Auxiliary score: 100%</h3>"
   ]
  },
  {
   "cell_type": "markdown",
   "id": "3d627563-5c63-4eec-8460-81c0bfef69cf",
   "metadata": {
    "execution": {
     "iopub.execute_input": "2023-06-07T07:48:58.871456Z",
     "iopub.status.busy": "2023-06-07T07:48:58.870956Z",
     "iopub.status.idle": "2023-06-07T07:48:58.873959Z",
     "shell.execute_reply": "2023-06-07T07:48:58.873959Z",
     "shell.execute_reply.started": "2023-06-07T07:48:58.871456Z"
    }
   },
   "source": [
    "<h3>Task 2. Linear CG; Auxiliary score: 100%</h3>"
   ]
  },
  {
   "cell_type": "markdown",
   "id": "57bb4269-3976-430d-ab4a-f333c5d32bc3",
   "metadata": {
    "execution": {
     "iopub.execute_input": "2023-06-07T07:49:00.581814Z",
     "iopub.status.busy": "2023-06-07T07:49:00.581814Z",
     "iopub.status.idle": "2023-06-07T07:49:00.584817Z",
     "shell.execute_reply": "2023-06-07T07:49:00.584817Z",
     "shell.execute_reply.started": "2023-06-07T07:49:00.581814Z"
    }
   },
   "source": [
    "<h3>Task 3. Nonlinear CG; Auxiliary score: 100%</h3>"
   ]
  },
  {
   "cell_type": "markdown",
   "id": "30a0fe35-a639-4bb7-abcd-76697e39b347",
   "metadata": {
    "execution": {
     "iopub.execute_input": "2023-06-07T07:49:01.314870Z",
     "iopub.status.busy": "2023-06-07T07:49:01.314870Z",
     "iopub.status.idle": "2023-06-07T07:49:01.317871Z",
     "shell.execute_reply": "2023-06-07T07:49:01.317871Z",
     "shell.execute_reply.started": "2023-06-07T07:49:01.314870Z"
    },
    "tags": []
   },
   "source": [
    "<h3>Task 4. Quasi-Newton methods; Auxiliary score: 100%; Bonus auxillary score: -%</h3>"
   ]
  },
  {
   "cell_type": "markdown",
   "id": "257635b4-e06a-432d-9938-afb721f69c7b",
   "metadata": {
    "execution": {
     "iopub.execute_input": "2023-06-07T07:49:06.164943Z",
     "iopub.status.busy": "2023-06-07T07:49:06.164443Z",
     "iopub.status.idle": "2023-06-07T07:49:06.168446Z",
     "shell.execute_reply": "2023-06-07T07:49:06.168446Z",
     "shell.execute_reply.started": "2023-06-07T07:49:06.164943Z"
    }
   },
   "source": [
    "<h3>Task 5. Derivative approximation; Auxiliary score: 100%</h3>"
   ]
  },
  {
   "cell_type": "markdown",
   "id": "4ee380a3-06a3-42e1-b244-ea99a2d82de1",
   "metadata": {
    "execution": {
     "iopub.execute_input": "2023-06-07T07:49:07.140683Z",
     "iopub.status.busy": "2023-06-07T07:49:07.140683Z",
     "iopub.status.idle": "2023-06-07T07:49:07.144187Z",
     "shell.execute_reply": "2023-06-07T07:49:07.143686Z",
     "shell.execute_reply.started": "2023-06-07T07:49:07.140683Z"
    }
   },
   "source": [
    "<h3>Task 6. Outperforming Newton method with Quasi-Newton method; Auxiliary score: -%</h3>"
   ]
  },
  {
   "cell_type": "markdown",
   "id": "0fdaf583-6e98-4f1a-ad05-1df097e43525",
   "metadata": {
    "tags": []
   },
   "source": [
    "<h2>Problems</h2>"
   ]
  },
  {
   "cell_type": "markdown",
   "id": "3419e406-a699-4bb4-b90c-b3a69dcbd552",
   "metadata": {
    "execution": {
     "iopub.execute_input": "2023-06-07T07:56:16.096989Z",
     "iopub.status.busy": "2023-06-07T07:56:16.096989Z",
     "iopub.status.idle": "2023-06-07T07:56:16.099992Z",
     "shell.execute_reply": "2023-06-07T07:56:16.099992Z",
     "shell.execute_reply.started": "2023-06-07T07:56:16.096989Z"
    }
   },
   "source": [
    "<h3>Problem 1:</h3>\n",
    "$$f(x_1, x_2)=100(x_2-x_1^2)^2+(1-x_1)^2$$\n",
    "$$f'(x_1, x_2)=\\begin{pmatrix}\n",
    "-400x_1(x_2-x_1^2)-2(1-x_1)\\\\ \n",
    "200(x_2-x_1^2)\\\\ \n",
    "\\end{pmatrix}$$\n",
    "$$f''(x_1, x_2)=\\begin{pmatrix}\n",
    "1200x_1^2-400x_2+2 & -400x_1\\\\ \n",
    "-400x_1 & 200\\\\ \n",
    "\\end{pmatrix}$$<br>\n",
    "Starting points $x_0$:\n",
    "$(1.2, 1.2), (-1.2, 1), (0.2, 0.8)$<br>\n",
    "with the minimum at $x^*=(1,1)$"
   ]
  },
  {
   "cell_type": "markdown",
   "id": "54c38519-9cc0-4e4d-855d-47fbfca25f3d",
   "metadata": {},
   "source": [
    "<h3>Problem 2:</h3>\n",
    "$$f(x_1, x_2)=150(x_1 x_2)^2+(0.5x_1 + 2x_2 - 2)^2$$\n",
    "$$f'(x_1, x_2)=\\begin{pmatrix}\n",
    "300x_2^2 x_1 + 0.5 x_1 + 2x_2 - 2\\\\ \n",
    "300x_1^2 x_2 + 2x_1 + 8x_2 - 8\\\\ \n",
    "\\end{pmatrix}$$\n",
    "$$f''(x_1, x_2)=\\begin{pmatrix}\n",
    "300x_2^2 +0.5 & 600x_1 x_2+2\\\\ \n",
    "600x_1 x_2+2 & 300x_1^2 +8\\\\ \n",
    "\\end{pmatrix}$$<br>\n",
    "\n",
    "Starting points $x_0$:\n",
    "$(-0.2, 1.2), (3.8, 0.1), (1.9, 0.6)$<br>\n",
    "with the minimums at $x^*=(0,1)$ and $x^*=(4,0)$ and a saddle point at $(0.43685, 0.10921)$"
   ]
  },
  {
   "cell_type": "markdown",
   "id": "28a381e4-2bcf-4b26-b738-6f03f7c9d041",
   "metadata": {
    "tags": []
   },
   "source": [
    "<h2>Task 1. Newton method with Hessian modification</h2>"
   ]
  },
  {
   "cell_type": "markdown",
   "id": "39b672a4-6bc7-4d2a-a41b-4b863572345a",
   "metadata": {
    "jp-MarkdownHeadingCollapsed": true,
    "tags": []
   },
   "source": [
    "<h3>Problem 1 with $x_0 = (1.2, 1.2)$</h3>\n",
    "<h4>with exact derivatives</h4>\n",
    "Number of iterations: $8$<br>\n",
    "final iterate $x_k=[1, 1]$<br>\n",
    "remaining gradient norm: $1.4360\\cdot 10^{-11}$<br>\n",
    "distance to true solution: $1.7228\\cdot 10^{-13}$<br>\n",
    "\n",
    "<h4>with approximated derivatives</h4>\n",
    "Number of iterations: $8$<br>\n",
    "final iterate $x_k=[1, 1]$<br>\n",
    "remaining gradient norm: $1.6428\\cdot 10^{-11}$<br>\n",
    "distance to true solution: $6.5474\\cdot 10^{-11}$"
   ]
  },
  {
   "cell_type": "markdown",
   "id": "8801daf8-5370-4d84-9d26-c062a8ec0840",
   "metadata": {},
   "source": [
    "<h3>Problem 1 with $x_0 = (-1.2, 1)$</h3>\n",
    "<h4>with exact derivatives</h4>\n",
    "Number of iterations: $21$<br>\n",
    "final iterate $x_k=[1, 1]$<br>\n",
    "remaining gradient norm: $1.2167\\cdot 10^{-10}$<br>\n",
    "distance to true solution: $1.2165\\cdot 10^{-12}$<br>\n",
    "\n",
    "<h4>with approximated derivatives</h4>\n",
    "Number of iterations: $21$<br>\n",
    "final iterate $x_k=[1, 1]$<br>\n",
    "remaining gradient norm: $1.2045\\cdot 10^{-10}$<br>\n",
    "distance to true solution: $7.3274\\cdot 10^{-11}$"
   ]
  },
  {
   "cell_type": "markdown",
   "id": "52ffdf94-5c24-435a-ade4-2cb9e09cc93f",
   "metadata": {},
   "source": [
    "<h3>Problem 1 with $x_0 = (0.2, 0.8)$</h3>\n",
    "<h4>with exact derivatives</h4>\n",
    "Number of iterations: $10$<br>\n",
    "final iterate $x_k=[1, 1]$<br>\n",
    "remaining gradient norm: $5.6995\\cdot 10^{-8}$<br>\n",
    "distance to true solution: $4.5221\\cdot 10^{-9}$<br>\n",
    "\n",
    "<h4>with approximated derivatives</h4>\n",
    "Number of iterations: $10$<br>\n",
    "final iterate $x_k=[1, 1]$<br>\n",
    "remaining gradient norm: $5.6905\\cdot 10^{-8}$<br>\n",
    "distance to true solution: $4.6953\\cdot 10^{-9}$"
   ]
  },
  {
   "cell_type": "markdown",
   "id": "94be2a67-ea5f-4caf-bd7b-6733e06d3427",
   "metadata": {},
   "source": [
    "<h3>Problem 2 with $x_0 = (-0.2, 1.2)$</h3>\n",
    "<h4>with exact derivatives</h4>\n",
    "Number of iterations: $6$<br>\n",
    "final iterate $x_k=[-4.7128\\cdot 10^{-14}, 1]$<br>\n",
    "remaining gradient norm: $1.4029\\cdot 10^{-11}$<br>\n",
    "distance to true solution: $8.4708\\cdot 10^{-14}$<br>\n",
    "\n",
    "<h4>with approximated derivatives</h4>\n",
    "Number of iterations: $6$<br>\n",
    "final iterate $x_k=[-9.6774\\cdot 10^{-14}, 1]$<br>\n",
    "remaining gradient norm: $1.4024\\cdot 10^{-11}$<br>\n",
    "distance to true solution: $9.8431\\cdot 10^{-14}$"
   ]
  },
  {
   "cell_type": "markdown",
   "id": "6c2aa87b-f1df-41d7-833b-17dc3a989ad9",
   "metadata": {},
   "source": [
    "<h3>Problem 2 with $x_0 = (3.8, 0.1)$</h3>\n",
    "<h4>with exact derivatives</h4>\n",
    "Number of iterations: $6$<br>\n",
    "final iterate $x_k=[4, -4.8130\\cdot 10^{-17}]$<br>\n",
    "remaining gradient norm: $2.2383\\cdot 10^{-13}$<br>\n",
    "distance to true solution: $3.5530\\cdot 10^{-15}$<br>\n",
    "\n",
    "<h4>with approximated derivatives</h4>\n",
    "Number of iterations: $6$<br>\n",
    "final iterate $x_k=[4, -5.0097\\cdot 10^{-14}]$<br>\n",
    "remaining gradient norm: $2.2444\\cdot 10^{-13}$<br>\n",
    "distance to true solution: $1.3159\\cdot 10^{-13}$"
   ]
  },
  {
   "cell_type": "markdown",
   "id": "149a5020-e355-48e4-95c3-4184461cc15d",
   "metadata": {
    "jp-MarkdownHeadingCollapsed": true,
    "tags": []
   },
   "source": [
    "<h3>Problem 2 with $x_0 = (1.9, 0.6)$</h3>\n",
    "<h4>with exact derivatives</h4>\n",
    "Number of iterations: $7$<br>\n",
    "final iterate $x_k=[2.3054\\cdot 10^{-9}, 1]$<br>\n",
    "remaining gradient norm: $7.0546\\cdot 10^{-7}$<br>\n",
    "distance to true solution: $5.9734\\cdot 10^{-9}$<br>\n",
    "\n",
    "<h4>with approximated derivatives</h4>\n",
    "Number of iterations: $7$<br>\n",
    "final iterate $x_k=[2.3049\\cdot 10^{-9},1]$<br>\n",
    "remaining gradient norm: $7.0534\\cdot 10^{-7}$<br>\n",
    "distance to true solution: $5.9766\\cdot 10^{-9}$"
   ]
  },
  {
   "cell_type": "markdown",
   "id": "e64bfe1d-14ee-4b05-945d-6cbc17b4a397",
   "metadata": {},
   "source": [
    "<h2>Task 2. Linear CG</h2>"
   ]
  },
  {
   "cell_type": "markdown",
   "id": "85f26b37-f8bd-4a1b-b7d8-1e6f109e9c09",
   "metadata": {},
   "source": [
    "<h3>Problem 1 with $x_0 = (1.2, 1.2)$</h3>\n",
    "<h4>with exact derivatives</h4>\n",
    "Number of iterations: $3$<br>\n",
    "final iterate $x_k=[0.004081632653055611, -0.23020408163265405]$<br>\n",
    "remaining gradient norm: $6.916250\\cdot 10^{-12}$<br>\n",
    "distance to true solution: $1.582800$\n",
    "\n",
    "<h4>with approximated derivatives, $\\epsilon=10^{-6}$</h4>\n",
    "Number of iterations: $4$<br>\n",
    "final iterate $x_k=[0.004088016926286575, -0.23018822134503503]$<br>\n",
    "remaining gradient norm: $2.867637\\cdot 10^{-12}$<br>\n",
    "distance to true solution: $1.582784$<br>"
   ]
  },
  {
   "cell_type": "markdown",
   "id": "3fb50d5e-13b7-40d6-9823-db7ef04ea757",
   "metadata": {},
   "source": [
    "<h3>Problem 1 with $x_0 = (-1.2, 1)$</h3>\n",
    "<h4>with exact derivatives</h4>\n",
    "Number of iterations: $3$<br>\n",
    "final iterate $x_k=[-0.024717574761283778, -0.3806772841309696]$<br>\n",
    "remaining gradient norm: $4.715383\\cdot 10^{-12}$<br>\n",
    "distance to true solution: $1.719394$<br>\n",
    "\n",
    "<h4>with approximated derivatives, $\\epsilon=10^{-6}$</h4>\n",
    "Number of iterations: $3$<br>\n",
    "final iterate $x_k=[-0.024719101123596765, -0.3806741573033696]$<br>\n",
    "remaining gradient norm: $1.176785\\cdot 10^{-11}$<br>\n",
    "distance to true solution: $1.719392$"
   ]
  },
  {
   "cell_type": "markdown",
   "id": "5e7078cc-482c-4a1e-882b-0587a7f967ba",
   "metadata": {},
   "source": [
    "<h3>Problem 1 with $x_0 = (0.2, 0.8, 1)$</h3>\n",
    "<h4>with exact derivatives</h4>\n",
    "Number of iterations: $3$<br>\n",
    "final iterate $x_k=[0.005298013245033131, 0.7621192052980132]$<br>\n",
    "remaining gradient norm: $4.2973663\\cdot 10^{-15}$<br>\n",
    "distance to true solution: $1.022751$<br>\n",
    "\n",
    "<h4>with approximated derivatives, $\\epsilon=10^{-6}$</h4>\n",
    "Number of iterations: $3$<br>\n",
    "final iterate $x_k=[0.005276775760591317, 0.7621248729905232]$<br>\n",
    "remaining gradient norm: $4.440892\\cdot 10^{-16}$<br>\n",
    "distance to true solution: $1.022770$"
   ]
  },
  {
   "cell_type": "markdown",
   "id": "5941c5fe-1889-4dfb-8a27-4f62e3957934",
   "metadata": {},
   "source": [
    "<h3>Problem 2 with $x_0 = (-0.2, 1.2)$</h3>\n",
    "<h4>with exact derivatives</h4>\n",
    "Number of iterations: $3$<br>\n",
    "final iterate $x_k=[-0.04283480979676754, 0.4758728504429387] $<br>\n",
    "remaining gradient norm: $7.737825\\cdot 10^{-13}$<br>\n",
    "distance to true solution: $0.525875$<br>\n",
    "\n",
    "<h4>with approximated derivatives, $\\epsilon=10^{-6}$</h4>\n",
    "Number of iterations: $4$<br>\n",
    "final iterate $x_k=[-0.04285661875397165, 0.4757987740790186]$<br>\n",
    "remaining gradient norm: $9.979664\\cdot 10^{-15}$<br>\n",
    "distance to true solution: $0.525950$"
   ]
  },
  {
   "cell_type": "markdown",
   "id": "d7b335d4-d3d7-4d1b-a52c-1c8935cfdc12",
   "metadata": {},
   "source": [
    "<h3>Problem 2 with $x_0 = (3.8, 0.1)$</h3>\n",
    "<h4>with exact derivatives</h4>\n",
    "Number of iterations: $3$<br>\n",
    "final iterate $x_k=[1.3210819411296733, 0.029896579156701797]$<br>\n",
    "remaining gradient norm: $8.969191\\cdot 10^{-11}$<br>\n",
    "distance to true solution: $2.679085$<br>\n",
    "\n",
    "<h4>with approximated derivatives, $\\epsilon=10^{-6}$</h4>\n",
    "Number of iterations: $3$<br>\n",
    "final iterate $x_k=[1.320454621208257, 0.029929493014058228]$<br>\n",
    "remaining gradient norm: $6.369615\\cdot 10^{-11}$<br>\n",
    "distance to true solution: $2.679713$"
   ]
  },
  {
   "cell_type": "markdown",
   "id": "652523b7-cddf-43b6-a3ea-50bc7127888f",
   "metadata": {},
   "source": [
    "<h3>Problem 2 with $x_0 = (1.9, 0.6)$</h3>\n",
    "<h4>with exact derivatives</h4>\n",
    "Number of iterations: $3$<br>\n",
    "final iterate $x_k=[0.6306739347997352, 0.19959457445222806]$<br>\n",
    "remaining gradient norm: $6.355287\\cdot 10^{-11}$<br>\n",
    "distance to true solution: $1.019018$<br>\n",
    "\n",
    "<h4>with approximated derivatives, $\\epsilon=10^{-6}$</h4>\n",
    "Number of iterations: $4$<br>\n",
    "final iterate $x_k=[0.6306826675164565, 0.19953335298706143]$<br>\n",
    "remaining gradient norm: $1.741453\\cdot 10^{-12}$<br>\n",
    "distance to true solution: $1.019072$"
   ]
  },
  {
   "cell_type": "markdown",
   "id": "74871044-fe46-424b-a80d-e76962a2e95c",
   "metadata": {},
   "source": [
    "<h3>Additional Tasks for linear CG - Hilbert matrices</h3>\n"
   ]
  },
  {
   "cell_type": "markdown",
   "id": "e08f9684-d9d1-4599-9436-22c9c9ae8969",
   "metadata": {},
   "source": [
    "<h4>Problem 1 - 5x5 Hilber matrix with $x_0 \\in 0^{5x1}$</h4>\n",
    "Number of iterations: $5$<br>\n",
    "final iterate $x_k=[[5.0], [-120.0], [630.0], [-1120.0], [630.0]]$<br>\n",
    "remaining gradient norm: $0.000166$<br>\n",
    "distance to true solution: $0.000106$"
   ]
  },
  {
   "cell_type": "markdown",
   "id": "dceeb2e2-5afb-4099-aa72-573d437b9bb4",
   "metadata": {},
   "source": [
    "<h4>Problem 2 - 8x8 Hilber matrix with $x_0 \\in 0^{8x1}$</h4>\n",
    "Number of iterations: $11$<br>\n",
    "final iterate $x_k=[[-7.99200000e+00],[ 5.03950000e+02],[-7.55987700e+03],[ 4.61999250e+04],[-1.38599883e+05],[ 2.16215649e+05],[-1.68167811e+05],[ 5.14800340e+04]$<br>\n",
    "remaining gradient norm: $0.000302$<br>\n",
    "distance to true solution: $0.438516$"
   ]
  },
  {
   "cell_type": "markdown",
   "id": "84961060-281e-4a59-a166-da2bd07d7c6f",
   "metadata": {},
   "source": [
    "<h4>Problem 3 - 12x12 Hilber matrix with $x_0 \\in 0^{12x1}$</h4>\n",
    "Number of iterations: $34$<br>\n",
    "remaining gradient norm: $0.000008$<br>\n",
    "distance to true solution: $3.684108\\cdot 10^{8}$"
   ]
  },
  {
   "cell_type": "markdown",
   "id": "0d2411b8-b358-40d9-874c-306003fb3dff",
   "metadata": {},
   "source": [
    "<h4>Problem 4 - 20x20 Hilber matrix with $x_0 \\in 0^{20x1}$</h4>\n",
    "Number of iterations: $69$<br>\n",
    "remaining gradient norm: $0.000002$<br>\n",
    "distance to true solution: $1.158176\\cdot 10^{10}$"
   ]
  },
  {
   "cell_type": "markdown",
   "id": "5f831810-0542-4055-a124-b7939d29775e",
   "metadata": {},
   "source": [
    "<h4>Problem 5 - 30x30 Hilber matrix with $x_0 \\in 0^{30x1}$</h4>\n",
    "Number of iterations: $166$<br>\n",
    "remaining gradient norm: $0.000033$<br>\n",
    "distance to true solution: $4.729048\\cdot 10^{9}$"
   ]
  },
  {
   "cell_type": "markdown",
   "id": "6a9cceef-6bad-461e-8fe0-01ef680b6b39",
   "metadata": {
    "execution": {
     "iopub.execute_input": "2023-06-07T09:35:50.600936Z",
     "iopub.status.busy": "2023-06-07T09:35:50.600936Z",
     "iopub.status.idle": "2023-06-07T09:35:50.604440Z",
     "shell.execute_reply": "2023-06-07T09:35:50.603940Z",
     "shell.execute_reply.started": "2023-06-07T09:35:50.600936Z"
    },
    "tags": []
   },
   "source": [
    "<h2>Task 3. Nonlinear CG</h2>"
   ]
  },
  {
   "cell_type": "markdown",
   "id": "9e7cc949-3071-486e-9027-d44b47892ff9",
   "metadata": {
    "jp-MarkdownHeadingCollapsed": true,
    "tags": []
   },
   "source": [
    "<h3>3.1  Fletcher-Reevers method</h3>"
   ]
  },
  {
   "cell_type": "markdown",
   "id": "9adf88f6-4e68-4c13-bfcd-eb2922e5890f",
   "metadata": {},
   "source": [
    "<h3>Problem 1 with $x_0 = (1.2, 1.2)$</h3>\n",
    "<h4>with exact derivatives</h4>\n",
    "Number of iterations: $41$<br>\n",
    "final iterate $x_k=[1.00000028, 1.00000057]$<br>\n",
    "remaining gradient norm: $3.6224650726754323\\cdot 10^{-7}$<br>\n",
    "distance to true solution: $6.324343065753569\\cdot 10^{-7}$<br>\n",
    "\n",
    "<h4>with approximated derivatives</h4>\n",
    "Number of iterations: $41$<br>\n",
    "final iterate $x_k=[1.00000033, 1.00000067]$<br>\n",
    "remaining gradient norm: $5.807190095105914\\cdot 10^{-7}$<br>\n",
    "distance to true solution: $7.472183496199614\\cdot 10^{-7}$<br>"
   ]
  },
  {
   "cell_type": "markdown",
   "id": "020170f3-7d69-468e-b220-2aba1249d4b5",
   "metadata": {
    "tags": []
   },
   "source": [
    "<h3>Problem 1 with $x_0 = (-1.2, 1)$</h3>\n",
    "<h4>with exact derivatives</h4>\n",
    "Number of iterations: $62$<br>\n",
    "final iterate $x_k=[0.9999998, 0.9999959]$<br>\n",
    "remaining gradient norm: $9.322613911533588\\cdot 10^{-7}$<br>\n",
    "distance to true solution: $4.5815255463471446\\cdot 10^{-7}$<br>\n",
    "\n",
    "<h4>with approximated derivatives</h4>\n",
    "Number of iterations: $40$<br>\n",
    "final iterate $x_k=[1.0000004,  1.00000008]$<br>\n",
    "remaining gradient norm: $4.420453736206737\\cdot 10^{-7}$<br>\n",
    "distance to true solution: $9.084788421803925\\cdot 10^{-8}$<br>"
   ]
  },
  {
   "cell_type": "markdown",
   "id": "a54db876-7118-46e6-88d7-653529b6b688",
   "metadata": {},
   "source": [
    "<h3>Problem 1 with $x_0 = (0.2, 0.8)$</h3>\n",
    "<h4>with exact derivatives</h4>\n",
    "Number of iterations: $31$<br>\n",
    "final iterate $x_k=[1.00000001, 1.00000003]$<br>\n",
    "remaining gradient norm: $5.189221323772752\\cdot 10^{-7}$<br>\n",
    "distance to true solution: $2.9181828230380727\\cdot 10^{-8}$<br>\n",
    "\n",
    "<h4>with approximated derivatives</h4>\n",
    "Number of iterations: $36$<br>\n",
    "final iterate $x_k=[0.99999995, 0.999999]$<br>\n",
    "remaining gradient norm: $3.2584427272376323\\cdot 10^{-7}$<br>\n",
    "distance to true solution: $1.1542310682161893\\cdot 10^{-7}$<br>"
   ]
  },
  {
   "cell_type": "markdown",
   "id": "ec90d2a8-7bb0-418a-bf4d-be9f54dcb566",
   "metadata": {},
   "source": [
    "<h3>Problem 2 with $x_0 = (-0.2, 1.2)$</h3>\n",
    "<h4>with exact derivatives</h4>\n",
    "Number of iterations: $17$<br>\n",
    "final iterate $x_k=[-1.14482577\\cdot 10^{-10}, 0.999999990]$<br>\n",
    "remaining gradient norm: $5.324610622053841\\cdot 10^{-7}$<br>\n",
    "distance to true solution: $9.758791956307114\\cdot 10^{-9}$<br>\n",
    "\n",
    "<h4>with approximated derivatives</h4>\n",
    "Number of iterations: $17$<br>\n",
    "final iterate $x_k=[-1.76536346\\cdot 10^{-11}, 0.999999990]$<br>\n",
    "remaining gradient norm: $5.324902390427775\\cdot 10^{-7}$<br>\n",
    "distance to true solution: $9.825200636660683\\cdot 10^{-9}$<br>"
   ]
  },
  {
   "cell_type": "markdown",
   "id": "15261082-1fdd-4da1-9491-9251a59f4b7f",
   "metadata": {},
   "source": [
    "<h3>Problem 2 with $x_0 = (3.8, 0.1)$</h3>\n",
    "<h4>with exact derivatives</h4>\n",
    "Number of iterations: $14$<br>\n",
    "final iterate $x_k=[3.99999921,3.90619201\\cdot 10^{-10}]$<br>\n",
    "remaining gradient norm: $6.076566486460851\\cdot 10^{-7}$<br>\n",
    "distance to true solution: $7.896102276772505\\cdot 10^{-7}$<br>\n",
    "\n",
    "<h4>with approximated derivatives</h4>\n",
    "Number of iterations: $18$<br>\n",
    "final iterate $x_k=[4.00000023, -1.34067394\\cdot 10^{-10}]$<br>\n",
    "remaining gradient norm: $1.2747709548357563\\cdot 10^{-7}$<br>\n",
    "distance to true solution: $2.2883337377678512\\cdot 10^{-7}$<br>"
   ]
  },
  {
   "cell_type": "markdown",
   "id": "a350e583-f364-4560-8444-8271709d2411",
   "metadata": {},
   "source": [
    "<h3>Problem 2 with $x_0 = (1.9, 0.6)$</h3>\n",
    "<h4>with exact derivatives</h4>\n",
    "Number of iterations: $62$<br>\n",
    "final iterate $x_k=[3.99999948,  2.07992650\\cdot 10^{-10}]$<br>\n",
    "remaining gradient norm: $4.766496669404978\\cdot 10^{-7}$<br>\n",
    "distance to true solution: $5.249332532155534\\cdot 10^{-7}$<br>\n",
    "\n",
    "<h4>with approximated derivatives</h4>\n",
    "Number of iterations: $53$<br>\n",
    "final iterate $x_k=[4.00000118,  -2.13678710\\cdot 10^{-10}]$<br>\n",
    "remaining gradient norm: $5.9312428506431\\cdot 10^{-7}$<br>\n",
    "distance to true solution: $1.1777148970048163\\cdot 10^{-6}$<br>"
   ]
  },
  {
   "cell_type": "markdown",
   "id": "fa25e6cd-53b4-47ae-a770-ff81551bbbfc",
   "metadata": {},
   "source": [
    "<h3>3.2  Polak-Ribiere method </h3><h3>Problem 1 with $x_0 = (1.2, 1.2)$</h3>"
   ]
  },
  {
   "cell_type": "markdown",
   "id": "a294062e-e478-4fff-9ce4-68a835df7300",
   "metadata": {},
   "source": [
    "<h4>with exact derivatives</h4>\n",
    "Number of iterations: $20$<br>\n",
    "final iterate $x_k=[1, 1]$<br>\n",
    "remaining gradient norm: $1.1956084547024401\\cdot 10^{-7}$<br>\n",
    "distance to true solution: $2.6480233599516527\\cdot 10^{-9}$<br>\n",
    "\n",
    "<h4>with approximated derivatives</h4>\n",
    "Number of iterations: $20$<br>\n",
    "final iterate $x_k=[1, 1]$<br>\n",
    "remaining gradient norm: $1.2580875078193474\\cdot 10^{-7}$<br>\n",
    "distance to true solution: $3.638098491553031\\cdot 10^{-9}$"
   ]
  },
  {
   "cell_type": "markdown",
   "id": "5521fb76-307e-4ebe-90e3-e8ff451a5ad6",
   "metadata": {},
   "source": [
    "<h3>Problem 1 with $x_0 = (-1.2, 1)$</h3>\n",
    "<h4>with exact derivatives</h4>\n",
    "Number of iterations: $42$<br>\n",
    "final iterate $x_k=[0.99999999, 0.99999999]$<br>\n",
    "remaining gradient norm: $1.3602819912005817\\cdot 10^{-7}$<br>\n",
    "distance to true solution: $1.3795397251231246\\cdot 10^{-8}$<br>\n",
    "\n",
    "<h4>with approximated derivatives</h4>\n",
    "Number of iterations: $43$<br>\n",
    "final iterate $x_k=[1.00000021, 1.00000042]$<br>\n",
    "remaining gradient norm: $6.528460581995803\\cdot 10^{-7}$<br>\n",
    "distance to true solution: $4.720985345328263\\cdot 10^{-7}$<br>"
   ]
  },
  {
   "cell_type": "markdown",
   "id": "4521f57d-89e0-48bd-96d1-d27f25280e43",
   "metadata": {},
   "source": [
    "<h3>Problem 1 with $x_0 = (0.2, 0.8)$</h3>\n",
    "<h4>with exact derivatives</h4>\n",
    "Number of iterations: $26$<br>\n",
    "final iterate $x_k=[1, 1]$<br>\n",
    "remaining gradient norm: $3.387301548011087\\cdot 10^{-7}$<br>\n",
    "distance to true solution: $1.0528784071427355\\cdot 10^{-9}$<br>\n",
    "\n",
    "<h4>with approximated derivatives</h4>\n",
    "Number of iterations: $26$<br>\n",
    "final iterate $x_k=[1, 1]$<br>\n",
    "remaining gradient norm: $2.825980858284472\\cdot 10^{-7}$<br>\n",
    "distance to true solution: $8.96935415748683\\cdot 10^{-11}$<br>"
   ]
  },
  {
   "cell_type": "markdown",
   "id": "75ffceea-51d5-4d2b-b9bf-78be5a95accc",
   "metadata": {},
   "source": [
    "<h3>Problem 2 with $x_0 = (-0.2, 1.2)$</h3>\n",
    "<h4>with exact derivatives</h4>\n",
    "Number of iterations: $11$<br>\n",
    "final iterate $x_k=[-5.69436337\\cdot 10^{-11}, 1.00000001]$<br>\n",
    "remaining gradient norm: $8.92436621767589\\cdot 10^{-7}$<br>\n",
    "distance to true solution: $9.331355131079791\\cdot 10^{-9}$<br>\n",
    "\n",
    "<h4>with approximated derivatives</h4>\n",
    "Number of iterations: $11$<br>\n",
    "final iterate $x_k=[-5.69933833\\cdot 10^{-11}, 1.00000001]$<br>\n",
    "remaining gradient norm: $8.924366239422168\\cdot 10^{-7}$<br>\n",
    "distance to true solution: $9.331317909965993\\cdot 10^{-9}$<br>"
   ]
  },
  {
   "cell_type": "markdown",
   "id": "9268ac0d-8755-42c9-a071-5a0f634fb52c",
   "metadata": {},
   "source": [
    "<h3>Problem 2 with $x_0 = (3.8, 0.1)$</h3>\n",
    "<h4>with exact derivatives</h4>\n",
    "Number of iterations: $19$<br>\n",
    "final iterate $x_k=[4,  1.43966936\\cdot 10^{-11}]$<br>\n",
    "remaining gradient norm: $1.3397998076579856\\cdot 10^{-7}$<br>\n",
    "distance to true solution: $7.861959287202799\\cdot 10^{-10}$<br>\n",
    "\n",
    "<h4>with approximated derivatives</h4>\n",
    "Number of iterations: $19$<br>\n",
    "final iterate $x_k=[4,  1.43384331\\cdot 10^{-11}]$<br>\n",
    "remaining gradient norm: $1.3397609275780353\\cdot 10^{-7}$<br>\n",
    "distance to true solution: $7.665583689347727\\cdot 10^{-10}$<br>"
   ]
  },
  {
   "cell_type": "markdown",
   "id": "8b6c8bf5-8627-4dd9-bedf-5fe2841ae180",
   "metadata": {},
   "source": [
    "<h3>Problem 2 with $x_0 = (1.9, 0.6)$</h3>\n",
    "<h4>with exact derivatives</h4>\n",
    "Number of iterations: $18$<br>\n",
    "final iterate $x_k=[4,  4.77486637\\cdot 10^{-13}]$<br>\n",
    "remaining gradient norm: $4.4664753283532916\\cdot 10^{-7}$<br>\n",
    "distance to true solution: $6.133024837097058\\cdot 10^{-10}$<br>\n",
    "\n",
    "<h4>with approximated derivatives</h4>\n",
    "Number of iterations: $18$<br>\n",
    "final iterate $x_k=[4,  4.18563297\\cdot 10^{-13}]$<br>\n",
    "remaining gradient norm: $4.466451366645769\\cdot 10^{-7}$<br>\n",
    "distance to true solution: $5.917983140468959\\cdot 10^{-10}$<br>"
   ]
  },
  {
   "cell_type": "markdown",
   "id": "576d6973-edec-4853-aa3f-4261490ab9a5",
   "metadata": {
    "jp-MarkdownHeadingCollapsed": true,
    "tags": []
   },
   "source": [
    "<h2>Task 4. Quasi-Newton methods</h2>"
   ]
  },
  {
   "cell_type": "markdown",
   "id": "8dca1e4d-be89-4ecc-8f1b-e8e371a383a6",
   "metadata": {},
   "source": [
    "<h3>4.1 BFSG</h3>"
   ]
  },
  {
   "cell_type": "markdown",
   "id": "c6ddd3eb-e784-4b01-ba91-8f9079c424ba",
   "metadata": {
    "tags": []
   },
   "source": [
    "<h3>Problem 1 with $x_0 = (1.2, 1.2)$</h3>\n",
    "<h4>with exact derivatives</h4>\n",
    "Number of iterations: $12$<br>\n",
    "final iterate $x_k=[1.00000001, 1.00000001]$<br>\n",
    "remaining gradient norm: $1.551951036325939\\cdot 10^{-7}$<br>\n",
    "distance to true solution: $1.4249732950384684\\cdot 10^{-8}$<br>\n",
    "\n",
    "<h4>with approximated derivatives</h4>\n",
    "Number of iterations: $12$<br>\n",
    "final iterate $x_k=[1.00000001, 1.00000002]$<br>\n",
    "remaining gradient norm: $2.3080410061693277\\cdot 10^{-7}$<br>\n",
    "distance to true solution: $2.116338497564563\\cdot 10^{-8}$"
   ]
  },
  {
   "cell_type": "markdown",
   "id": "c956751d-8f0c-47db-9129-0a00b1878577",
   "metadata": {
    "jp-MarkdownHeadingCollapsed": true,
    "tags": []
   },
   "source": [
    "<h3>Problem 1 with $x_0 = (-1.2, 1)$</h3>\n",
    "<h4>with exact derivatives</h4>\n",
    "Number of iterations: $30$<br>\n",
    "final iterate $x_k=[1, 1]$<br>\n",
    "remaining gradient norm: $1.6133208902232782\\cdot 10^{-9}$<br>\n",
    "distance to true solution: $2.8827528592999823\\cdot 10^{-10}$<br>\n",
    "\n",
    "<h4>with approximated derivatives</h4>\n",
    "Number of iterations: $30$<br>\n",
    "final iterate $x_k=[1,1]$<br>\n",
    "remaining gradient norm: $1.6121252949085563\\cdot 10^{-9}$<br>\n",
    "distance to true solution: $3.5549669645521607\\cdot 10^{-10}$"
   ]
  },
  {
   "cell_type": "markdown",
   "id": "0743edfd-46a3-4fb3-acd5-12e7ea8f7e69",
   "metadata": {
    "jp-MarkdownHeadingCollapsed": true,
    "tags": []
   },
   "source": [
    "<h3>Problem 1 with $x_0 = (0.2, 0.8)$</h3>\n",
    "<h4>with exact derivatives</h4>\n",
    "Number of iterations: $20$<br>\n",
    "final iterate $x_k=[1, 1]$<br>\n",
    "remaining gradient norm: $3.2573494428790844\\cdot 10^{-8}$<br>\n",
    "distance to true solution: $3.3348498894191675\\cdot 10^{-9}$<br>\n",
    "\n",
    "<h4>with approximated derivatives</h4>\n",
    "Number of iterations: $20$<br>\n",
    "final iterate $x_k=[1, 1]$<br>\n",
    "remaining gradient norm: $3.1828489299054078\\cdot 10^{-9}$<br>\n",
    "distance to true solution: $1.102901332926877\\cdot 10^{-10}$"
   ]
  },
  {
   "cell_type": "markdown",
   "id": "5d37fdbb-8cdc-4d3e-a219-f4253c733e5b",
   "metadata": {
    "jp-MarkdownHeadingCollapsed": true,
    "tags": []
   },
   "source": [
    "<h3>Problem 2 with $x_0 = (-0.2, 1.2)$</h3>\n",
    "<h4>with exact derivatives</h4>\n",
    "Number of iterations: $9$<br>\n",
    "final iterate $x_k=[-8.22191363\\cdot 10^{-11}, 1]$<br>\n",
    "remaining gradient norm: $2.398960860063864\\cdot 10^{-8}$<br>\n",
    "distance to true solution: $5.460623059450867\\cdot 10^{-10}$<br>\n",
    "\n",
    "<h4>with approximated derivatives</h4>\n",
    "Number of iterations: $9$<br>\n",
    "final iterate $x_k=[-8.22688848\\cdot 10^{-11},1]$<br>\n",
    "remaining gradient norm: $2.3989608103448146\\cdot 10^{-8}$<br>\n",
    "distance to true solution: $5.460324819507533\\cdot 10^{-10}$"
   ]
  },
  {
   "cell_type": "markdown",
   "id": "61455a2f-48c7-4ed7-8a74-8560e73f63b6",
   "metadata": {
    "jp-MarkdownHeadingCollapsed": true,
    "tags": []
   },
   "source": [
    "<h3>Problem 2 with $x_0 = (3.8, 0.1)$</h3>\n",
    "<h4>with exact derivatives</h4>\n",
    "Number of iterations: $6$<br>\n",
    "final iterate $x_k=[3.99999986, 2.90509620\\cdot 10^{-11}]$<br>\n",
    "remaining gradient norm: $1.4771310771991682\\cdot 10^{-7}$<br>\n",
    "distance to true solution: $1.354852341488151\\cdot 10^{-7}$<br>\n",
    "\n",
    "<h4>with approximated derivatives</h4>\n",
    "Number of iterations: $6$<br>\n",
    "final iterate $x_k=[3.99999986, 2.90009009\\cdot 10^{-11}]$<br>\n",
    "remaining gradient norm: $1.4771310308313813\\cdot 10^{-7}$<br>\n",
    "distance to true solution: $1.3548508403594068\\cdot 10^{-7}$"
   ]
  },
  {
   "cell_type": "markdown",
   "id": "49448a1d-4f64-4671-a026-94be3bea0368",
   "metadata": {
    "jp-MarkdownHeadingCollapsed": true,
    "tags": []
   },
   "source": [
    "<h3>Problem 2 with $x_0 = (1.9, 0.6)$</h3>\n",
    "<h4>with exact derivatives</h4>\n",
    "Number of iterations: $9$<br>\n",
    "final iterate $x_k=[4, -2.84353418\\cdot 10^{-11}]$<br>\n",
    "remaining gradient norm: $1.4608400056245542\\cdot 10^{-7}$<br>\n",
    "distance to true solution: $4.673719094477779\\cdot 10^{-9}$<br>\n",
    "\n",
    "<h4>with approximated derivatives</h4>\n",
    "Number of iterations: $9$<br>\n",
    "final iterate $x_k=[4, -2.84854271\\cdot 10^{-11}]$<br>\n",
    "remaining gradient norm: $1.460841073911588\\cdot 10^{-7}$<br>\n",
    "distance to true solution: $4.673567967861984\\cdot 10^{-9}$"
   ]
  },
  {
   "cell_type": "markdown",
   "id": "39da7d79-d4fc-4a60-ab73-0ff1f0c65b25",
   "metadata": {},
   "source": [
    "<h3>4.2 SR1</h3>"
   ]
  },
  {
   "cell_type": "markdown",
   "id": "cba96e0c-87cb-4bb0-acf6-23451db79042",
   "metadata": {
    "jp-MarkdownHeadingCollapsed": true,
    "tags": []
   },
   "source": [
    "<h3>Problem 1 with $x_0 = (1.2, 1.2)$</h3>\n",
    "<h4>with exact derivatives</h4>\n",
    "Number of iterations: $11$<br>\n",
    "final iterate $x_k=[1, 1]$<br>\n",
    "remaining gradient norm: $3.9149\\cdot 10^{-8}$<br>\n",
    "distance to true solution: $2.6507\\cdot 10^{-9}$<br>\n",
    "\n",
    "<h4>with approximated derivatives</h4>\n",
    "Number of iterations: $11$<br>\n",
    "final iterate $x_k=[1,1]$<br>\n",
    "remaining gradient norm: $3.9149\\cdot 10^{-8}$<br>\n",
    "distance to true solution: $2.5834\\cdot 10^{-9}$"
   ]
  },
  {
   "cell_type": "markdown",
   "id": "a768d850-700f-4933-99ee-fca9409581af",
   "metadata": {
    "tags": []
   },
   "source": [
    "<h3>Problem 1 with $x_0 = (-1.2, 1)$</h3>\n",
    "<h4>with exact derivatives</h4>\n",
    "Number of iterations: $38$<br>\n",
    "final iterate $x_k=[0.99999979, 0.99999958]$<br>\n",
    "remaining gradient norm: $1.885\\cdot 10^{-7}$<br>\n",
    "distance to true solution: $4.717\\cdot 10^{-7}$<br>\n",
    "\n",
    "<h4>with approximated derivatives</h4>\n",
    "Number of iterations: $37$<br>\n",
    "final iterate $x_k=[1.00000051, 1.00000103]$<br>\n",
    "remaining gradient norm: $5.3137\\cdot 10^{-7}$<br>\n",
    "distance to true solution: $1.1511\\cdot 10^{-6}$"
   ]
  },
  {
   "cell_type": "markdown",
   "id": "afd5fb5a-3582-42d5-993b-d1b567031251",
   "metadata": {
    "jp-MarkdownHeadingCollapsed": true,
    "tags": []
   },
   "source": [
    "<h3>Problem 1 with $x_0 = (0.2, 0.8)$</h3>\n",
    "<h4>with exact derivatives</h4>\n",
    "Number of iterations: $25$<br>\n",
    "final iterate $x_k=[1, 1]$<br>\n",
    "remaining gradient norm: $4.0677\\cdot 10^{-7}$<br>\n",
    "distance to true solution: $2.4573\\cdot 10^{-9}$<br>\n",
    "\n",
    "<h4>with approximated derivatives</h4>\n",
    "Number of iterations: $25$<br>\n",
    "final iterate $x_k=[1,1]$<br>\n",
    "remaining gradient norm: $4.0674\\cdot 10^{-7}$<br>\n",
    "distance to true solution: $2.3908\\cdot 10^{-9}$"
   ]
  },
  {
   "cell_type": "markdown",
   "id": "35c69d5e-ba45-4553-8feb-c361271acba7",
   "metadata": {
    "jp-MarkdownHeadingCollapsed": true,
    "tags": []
   },
   "source": [
    "<h3>Problem 2 with $x_0 = (-0.2, 1.2)$</h3>\n",
    "<h4>with exact derivatives</h4>\n",
    "Number of iterations: $9$<br>\n",
    "final iterate $x_k=[6.2311\\cdot 10^{-10}, 1]$<br>\n",
    "remaining gradient norm: $1.9377\\cdot 10^{-7}$<br>\n",
    "distance to true solution: $2.6959\\cdot 10^{-9}$<br>\n",
    "\n",
    "<h4>with approximated derivatives</h4>\n",
    "Number of iterations: $9$<br>\n",
    "final iterate $x_k=[6.2306\\cdot 10^{-10},1]$<br>\n",
    "remaining gradient norm: $1.9377\\cdot 10^{-7}$<br>\n",
    "distance to true solution: $2.6958\\cdot 10^{-9}$"
   ]
  },
  {
   "cell_type": "markdown",
   "id": "bff2d629-e77c-4c7b-9121-3758b8264d60",
   "metadata": {
    "tags": []
   },
   "source": [
    "<h3>Problem 2 with $x_0 = (3.8, 0.1)$</h3>\n",
    "<h4>with exact derivatives</h4>\n",
    "Number of iterations: $6$<br>\n",
    "final iterate $x_k=[3.99999899, 4.104\\cdot 10^{-10}]$<br>\n",
    "remaining gradient norm: $5.0528\\cdot 10^{-7}$<br>\n",
    "distance to true solution: $1.0084\\cdot 10^{-6}$<br>\n",
    "\n",
    "<h4>with approximated derivatives</h4>\n",
    "Number of iterations: $6$<br>\n",
    "final iterate $x_k=[3.99999899, 4.103\\cdot 10^{-10}]$<br>\n",
    "remaining gradient norm: $5.0528\\cdot 10^{-7}$<br>\n",
    "distance to true solution: $1.0084\\cdot 10^{-6}$"
   ]
  },
  {
   "cell_type": "markdown",
   "id": "169aa597-e5f2-470f-8376-dc5a1366e50d",
   "metadata": {
    "tags": []
   },
   "source": [
    "<h3>Problem 2 with $x_0 = (1.9, 0.6)$</h3>\n",
    "<h4>with exact derivatives</h4>\n",
    "Number of iterations: $11$<br>\n",
    "final iterate $x_k=[4, 2.2563\\cdot 10^{-11}]$<br>\n",
    "remaining gradient norm: $1.0531\\cdot 10^{-7}$<br>\n",
    "distance to true solution: $1.5876\\cdot 10^{-9}$<br>\n",
    "\n",
    "<h4>with approximated derivatives</h4>\n",
    "Number of iterations: $11$<br>\n",
    "final iterate $x_k=[4, 2.2513\\cdot 10^{-11}]$<br>\n",
    "remaining gradient norm: $1.0531\\cdot 10^{-7}$<br>\n",
    "distance to true solution: $1.5875\\cdot 10^{-9}$"
   ]
  },
  {
   "cell_type": "code",
   "execution_count": null,
   "id": "d7502340-0f24-443c-9bbb-38e65d03afd5",
   "metadata": {},
   "outputs": [],
   "source": []
  }
 ],
 "metadata": {
  "kernelspec": {
   "display_name": "Python 3 (ipykernel)",
   "language": "python",
   "name": "python3"
  },
  "language_info": {
   "codemirror_mode": {
    "name": "ipython",
    "version": 3
   },
   "file_extension": ".py",
   "mimetype": "text/x-python",
   "name": "python",
   "nbconvert_exporter": "python",
   "pygments_lexer": "ipython3",
   "version": "3.9.12"
  }
 },
 "nbformat": 4,
 "nbformat_minor": 5
}
