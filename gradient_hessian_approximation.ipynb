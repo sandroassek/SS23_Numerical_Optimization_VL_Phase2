{
 "cells": [
  {
   "cell_type": "markdown",
   "id": "67955643-3ef1-4ce5-b34c-b1109f80185b",
   "metadata": {},
   "source": [
    "# Gradient and Hessian approximation"
   ]
  },
  {
   "cell_type": "code",
   "execution_count": 211,
   "id": "75471b5c-3ed1-4d53-9ea8-6cb4dfe90eea",
   "metadata": {
    "execution": {
     "iopub.execute_input": "2023-06-05T18:43:48.503801Z",
     "iopub.status.busy": "2023-06-05T18:43:48.503300Z",
     "iopub.status.idle": "2023-06-05T18:43:48.521316Z",
     "shell.execute_reply": "2023-06-05T18:43:48.520816Z",
     "shell.execute_reply.started": "2023-06-05T18:43:48.503801Z"
    },
    "tags": []
   },
   "outputs": [],
   "source": [
    "import numpy as np\n",
    "import decimal\n",
    "from decimal import Decimal"
   ]
  },
  {
   "cell_type": "markdown",
   "id": "616de198-148a-4a8b-837a-77318c37aebd",
   "metadata": {},
   "source": [
    "<h2 style=\"color:rgb(0,0,0)\">Problem function definition and starting points</h2>"
   ]
  },
  {
   "cell_type": "code",
   "execution_count": 212,
   "id": "40d4d59a-7c87-4048-b32d-6bca11b1b64b",
   "metadata": {
    "execution": {
     "iopub.execute_input": "2023-06-05T18:43:49.016676Z",
     "iopub.status.busy": "2023-06-05T18:43:49.016175Z",
     "iopub.status.idle": "2023-06-05T18:43:49.033190Z",
     "shell.execute_reply": "2023-06-05T18:43:49.032690Z",
     "shell.execute_reply.started": "2023-06-05T18:43:49.016676Z"
    },
    "tags": []
   },
   "outputs": [],
   "source": [
    "def f_1(x):\n",
    "    return ((100 * ((x[1]-x[0]**2)**2)) + ((1-x[0])**2))\n",
    "\n",
    "def f_2(x):\n",
    "    return (150 * ((x[0]*x[1])**2)) + ((Decimal(0.5)*x[0] + 2*x[1] - 2)**2)\n",
    "\n",
    "x_0_01 = np.array([Decimal(1.2),Decimal(1.2)])\n",
    "x_0_02 = np.array([Decimal(-1.2),Decimal(1)])\n",
    "x_0_03 = np.array([Decimal(0.2),Decimal(0.8)])\n",
    "x_0_11 = np.array([Decimal(-0.2),Decimal(1.2)])\n",
    "x_0_12 = np.array([Decimal(3.8),Decimal(0.1)])\n",
    "x_0_13 = np.array([Decimal(1.9),Decimal(0.6)])"
   ]
  },
  {
   "cell_type": "markdown",
   "id": "ad64b983-dc37-4cf7-b100-e7992ae5a2c8",
   "metadata": {},
   "source": [
    "<h2 style=\"color:rgb(0,0,0)\">Gradient estimation</h2>"
   ]
  },
  {
   "cell_type": "code",
   "execution_count": 387,
   "id": "1c5dd4f3-cff9-475e-b1b9-ecaf4528eb7f",
   "metadata": {
    "execution": {
     "iopub.execute_input": "2023-06-05T19:15:53.010227Z",
     "iopub.status.busy": "2023-06-05T19:15:53.009727Z",
     "iopub.status.idle": "2023-06-05T19:15:53.027242Z",
     "shell.execute_reply": "2023-06-05T19:15:53.026742Z",
     "shell.execute_reply.started": "2023-06-05T19:15:53.010227Z"
    },
    "tags": []
   },
   "outputs": [],
   "source": [
    "eps_grad = Decimal(0.0000000000000001)"
   ]
  },
  {
   "cell_type": "code",
   "execution_count": 438,
   "id": "bde1f565-8fc0-4506-95e0-e870fb7b9833",
   "metadata": {
    "execution": {
     "iopub.execute_input": "2023-06-05T19:42:28.106416Z",
     "iopub.status.busy": "2023-06-05T19:42:28.105916Z",
     "iopub.status.idle": "2023-06-05T19:42:28.122429Z",
     "shell.execute_reply": "2023-06-05T19:42:28.121929Z",
     "shell.execute_reply.started": "2023-06-05T19:42:28.106416Z"
    },
    "tags": []
   },
   "outputs": [],
   "source": [
    "# use to get gradient as np.array\n",
    "def grad_estimate_np(f, x: np.array, eps: decimal.Decimal):\n",
    "    grad=np.full(len(x), Decimal(0))\n",
    "    for i in range(len(x)):\n",
    "        unit_vector = np.full(len(x), Decimal(0))\n",
    "        unit_vector[i] = Decimal(1)\n",
    "        grad[i] = round(float((f(x + (eps * unit_vector)) - f(x)) / eps), 9)\n",
    "    return np.array(grad)\n",
    "\n",
    "# use for further calculation of hessian estimate\n",
    "def grad_estimate(f, x: np.array, eps: decimal.Decimal):\n",
    "    grad=np.full(len(x), Decimal(0))\n",
    "    for i in range(len(x)):\n",
    "        unit_vector = np.full(len(x), Decimal(0))\n",
    "        unit_vector[i] = Decimal(1)\n",
    "        grad[i] = (f(x + (eps * unit_vector)) - f(x)) / eps\n",
    "    return np.array(grad)"
   ]
  },
  {
   "cell_type": "code",
   "execution_count": 436,
   "id": "05e8a8aa-6700-499b-8272-454c9a85c421",
   "metadata": {
    "execution": {
     "iopub.execute_input": "2023-06-05T19:34:41.290381Z",
     "iopub.status.busy": "2023-06-05T19:34:41.289881Z",
     "iopub.status.idle": "2023-06-05T19:34:41.309897Z",
     "shell.execute_reply": "2023-06-05T19:34:41.309397Z",
     "shell.execute_reply.started": "2023-06-05T19:34:41.290381Z"
    },
    "tags": []
   },
   "outputs": [
    {
     "name": "stdout",
     "output_type": "stream",
     "text": [
      "Estimated gradient of function 1 at x0=[1.2, 1.2]:   [115.6 -48.0]\n",
      "Estimated gradient of function 1 at x0=[-1.2, 1]:    [-215.6 -88.0]\n",
      "Estimated gradient of function 1 at x0=[0.2, 0.8]:   [-62.4 152.0]\n",
      "\n",
      "\n",
      "Estimated gradient of function 2 at x0=[-0.2, 1.2]:  [-86.1 15.6]\n",
      "Estimated gradient of function 2 at x0=[3.8, 0.1]:   [11.5 433.6]\n",
      "Estimated gradient of function 2 at x0=[1.9, 0.6]:   [205.35 650.4]\n"
     ]
    }
   ],
   "source": [
    "print('Estimated gradient of function 1 at x0=[1.2, 1.2]:  ',grad_estimate_np(f_1,x_0_01, eps_grad)) #true [115.6, -48.0]\n",
    "print('Estimated gradient of function 1 at x0=[-1.2, 1]:   ',grad_estimate_np(f_1,x_0_02, eps_grad)) #true [-215.6 -88.0]\n",
    "print('Estimated gradient of function 1 at x0=[0.2, 0.8]:  ',grad_estimate_np(f_1,x_0_03, eps_grad)) #true [-62.4 152.0]\n",
    "print('\\n')\n",
    "print('Estimated gradient of function 2 at x0=[-0.2, 1.2]: ',grad_estimate_np(f_2,x_0_11, eps_grad)) #true [-86.1  15.6]\n",
    "print('Estimated gradient of function 2 at x0=[3.8, 0.1]:  ',grad_estimate_np(f_2,x_0_12, eps_grad)) #true [11.5 433.6]\n",
    "print('Estimated gradient of function 2 at x0=[1.9, 0.6]:  ',grad_estimate_np(f_2,x_0_13, eps_grad)) #true [205.35 650.4]"
   ]
  },
  {
   "cell_type": "markdown",
   "id": "8b67c16e-007d-49c6-910f-833da4d93adf",
   "metadata": {
    "execution": {
     "iopub.execute_input": "2023-06-05T19:32:29.622281Z",
     "iopub.status.busy": "2023-06-05T19:32:29.622281Z",
     "iopub.status.idle": "2023-06-05T19:32:29.639295Z",
     "shell.execute_reply": "2023-06-05T19:32:29.638795Z",
     "shell.execute_reply.started": "2023-06-05T19:32:29.622281Z"
    },
    "tags": []
   },
   "source": [
    "<h2 style=\"color:rgb(0,0,0)\">Hessian estimation</h2>"
   ]
  },
  {
   "cell_type": "code",
   "execution_count": null,
   "id": "9067f3af-2fdf-49f0-b32e-8b2649da4481",
   "metadata": {},
   "outputs": [],
   "source": [
    "eps_hess = Decimal(0.00000001)"
   ]
  },
  {
   "cell_type": "code",
   "execution_count": 416,
   "id": "96e21b71-c7a6-4561-8aec-aa7aafc5c19e",
   "metadata": {
    "execution": {
     "iopub.execute_input": "2023-06-05T19:21:54.756155Z",
     "iopub.status.busy": "2023-06-05T19:21:54.755655Z",
     "iopub.status.idle": "2023-06-05T19:21:54.766164Z",
     "shell.execute_reply": "2023-06-05T19:21:54.765663Z",
     "shell.execute_reply.started": "2023-06-05T19:21:54.756155Z"
    },
    "tags": []
   },
   "outputs": [],
   "source": [
    "def hessian_estimate(f, x: np.array, eps_hess: decimal.Decimal, eps_grad):\n",
    "    hessian = np.full((len(x), len(x)), Decimal(0))\n",
    "    for i in range(len(x)):\n",
    "        unit_vector = np.full(len(x), Decimal(0))\n",
    "        unit_vector[i] = Decimal(1)\n",
    "        hessian[:, i] = np.array([round(float(g),9) for g in (np.divide(grad_estimate(f=f, x=(x + (eps_hess * unit_vector)), eps=eps_grad) - grad_estimate(f=f, x=x, eps=eps_grad), eps_hess))])\n",
    "    return hessian"
   ]
  },
  {
   "cell_type": "code",
   "execution_count": 437,
   "id": "8bd56694-6a50-40c3-9dfa-19ca35657644",
   "metadata": {
    "execution": {
     "iopub.execute_input": "2023-06-05T19:40:04.943976Z",
     "iopub.status.busy": "2023-06-05T19:40:04.943476Z",
     "iopub.status.idle": "2023-06-05T19:40:04.961991Z",
     "shell.execute_reply": "2023-06-05T19:40:04.961491Z",
     "shell.execute_reply.started": "2023-06-05T19:40:04.943976Z"
    },
    "tags": []
   },
   "outputs": [
    {
     "name": "stdout",
     "output_type": "stream",
     "text": [
      "Estimated hessian of function 1 at x0=[1.2, 1.2]: \n",
      " [[1250.0 -480.0]\n",
      " [-480.0 200.0]] \n",
      "\n",
      "Estimated hessian of function 1 at x0=[-1.2, 1]: \n",
      " [[1330.0 480.0]\n",
      " [480.0 200.0]] \n",
      "\n",
      "Estimated hessian of function 1 at x0=[0.2, 0.8]: \n",
      " [[-270.0 -80.0]\n",
      " [-80.0 200.0]] \n",
      "\n",
      "\n",
      "\n",
      "Estimated hessian of function 2 at x0=[-0.2, 1.2]: \n",
      " [[432.492 -142.008]\n",
      " [-142.008 19.992]] \n",
      "\n",
      "Estimated hessian of function 2 at x0=[3.8, 0.1]: \n",
      " [[3.51 230.01]\n",
      " [230.01 4340.01]] \n",
      "\n",
      "Estimated hessian of function 2 at x0=[1.9, 0.6]: \n",
      " [[108.5 686.0]\n",
      " [686.0 1091.0]] \n",
      "\n"
     ]
    }
   ],
   "source": [
    "print('Estimated hessian of function 1 at x0=[1.2, 1.2]: \\n',\n",
    "      hessian_estimate(f_1,x_0_01, eps_hess, eps_grad),'\\n') #true [[1250,-480],[-480,200]]\n",
    "print('Estimated hessian of function 1 at x0=[-1.2, 1]: \\n',\n",
    "      hessian_estimate(f_1,x_0_02, eps_hess, eps_grad),'\\n') #true [[1330,480],[480,200]]\n",
    "print('Estimated hessian of function 1 at x0=[0.2, 0.8]: \\n',\n",
    "      hessian_estimate(f_1,x_0_03, eps_hess, eps_grad),'\\n') #true [[-270,-80],[-80,200]]\n",
    "print('\\n')\n",
    "print('Estimated hessian of function 2 at x0=[-0.2, 1.2]: \\n',\n",
    "      hessian_estimate(f_2,x_0_11, eps_hess, eps_grad),'\\n') #true [[432.5,-142],[-142,20]]\n",
    "print('Estimated hessian of function 2 at x0=[3.8, 0.1]: \\n',\n",
    "      hessian_estimate(f_2,x_0_12, eps_hess, eps_grad),'\\n') #true [[3.5,230],[230,4340]]\n",
    "print('Estimated hessian of function 2 at x0=[1.9, 0.6]: \\n',\n",
    "      hessian_estimate(f_2,x_0_13, eps_hess, eps_grad),'\\n') #true [[108.5,686],[686,1091]]"
   ]
  }
 ],
 "metadata": {
  "kernelspec": {
   "display_name": "Python 3 (ipykernel)",
   "language": "python",
   "name": "python3"
  },
  "language_info": {
   "codemirror_mode": {
    "name": "ipython",
    "version": 3
   },
   "file_extension": ".py",
   "mimetype": "text/x-python",
   "name": "python",
   "nbconvert_exporter": "python",
   "pygments_lexer": "ipython3",
   "version": "3.9.7"
  }
 },
 "nbformat": 4,
 "nbformat_minor": 5
}
