{
 "cells": [
  {
   "cell_type": "markdown",
   "id": "39640edf-f050-40dc-a932-add3165e0891",
   "metadata": {},
   "source": [
    "# Report for Project 1 Phase 2"
   ]
  },
  {
   "cell_type": "markdown",
   "id": "b46dfab4-d7c1-443b-be92-11716addd405",
   "metadata": {
    "execution": {
     "iopub.execute_input": "2023-06-07T07:42:36.860629Z",
     "iopub.status.busy": "2023-06-07T07:42:36.860629Z",
     "iopub.status.idle": "2023-06-07T07:42:36.865634Z",
     "shell.execute_reply": "2023-06-07T07:42:36.865634Z",
     "shell.execute_reply.started": "2023-06-07T07:42:36.860629Z"
    }
   },
   "source": [
    "<h3>Task 1. Newton method with Hessian modification; Auxiliary score: 100%</h3>"
   ]
  },
  {
   "cell_type": "markdown",
   "id": "3d627563-5c63-4eec-8460-81c0bfef69cf",
   "metadata": {
    "execution": {
     "iopub.execute_input": "2023-06-07T07:48:58.871456Z",
     "iopub.status.busy": "2023-06-07T07:48:58.870956Z",
     "iopub.status.idle": "2023-06-07T07:48:58.873959Z",
     "shell.execute_reply": "2023-06-07T07:48:58.873959Z",
     "shell.execute_reply.started": "2023-06-07T07:48:58.871456Z"
    }
   },
   "source": [
    "<h3>Task 2. Linear CG; Auxiliary score: 100%</h3>"
   ]
  },
  {
   "cell_type": "markdown",
   "id": "57bb4269-3976-430d-ab4a-f333c5d32bc3",
   "metadata": {
    "execution": {
     "iopub.execute_input": "2023-06-07T07:49:00.581814Z",
     "iopub.status.busy": "2023-06-07T07:49:00.581814Z",
     "iopub.status.idle": "2023-06-07T07:49:00.584817Z",
     "shell.execute_reply": "2023-06-07T07:49:00.584817Z",
     "shell.execute_reply.started": "2023-06-07T07:49:00.581814Z"
    }
   },
   "source": [
    "<h3>Task 3. Nonlinear CG; Auxiliary score: -%</h3>"
   ]
  },
  {
   "cell_type": "markdown",
   "id": "30a0fe35-a639-4bb7-abcd-76697e39b347",
   "metadata": {
    "execution": {
     "iopub.execute_input": "2023-06-07T07:49:01.314870Z",
     "iopub.status.busy": "2023-06-07T07:49:01.314870Z",
     "iopub.status.idle": "2023-06-07T07:49:01.317871Z",
     "shell.execute_reply": "2023-06-07T07:49:01.317871Z",
     "shell.execute_reply.started": "2023-06-07T07:49:01.314870Z"
    },
    "tags": []
   },
   "source": [
    "<h3>Task 4. Quasi-Newton methods; Auxiliary score: -%</h3>"
   ]
  },
  {
   "cell_type": "markdown",
   "id": "257635b4-e06a-432d-9938-afb721f69c7b",
   "metadata": {
    "execution": {
     "iopub.execute_input": "2023-06-07T07:49:06.164943Z",
     "iopub.status.busy": "2023-06-07T07:49:06.164443Z",
     "iopub.status.idle": "2023-06-07T07:49:06.168446Z",
     "shell.execute_reply": "2023-06-07T07:49:06.168446Z",
     "shell.execute_reply.started": "2023-06-07T07:49:06.164943Z"
    }
   },
   "source": [
    "<h3>Task 5. Derivative approximation; Auxiliary score: -%</h3>"
   ]
  },
  {
   "cell_type": "markdown",
   "id": "4ee380a3-06a3-42e1-b244-ea99a2d82de1",
   "metadata": {
    "execution": {
     "iopub.execute_input": "2023-06-07T07:49:07.140683Z",
     "iopub.status.busy": "2023-06-07T07:49:07.140683Z",
     "iopub.status.idle": "2023-06-07T07:49:07.144187Z",
     "shell.execute_reply": "2023-06-07T07:49:07.143686Z",
     "shell.execute_reply.started": "2023-06-07T07:49:07.140683Z"
    }
   },
   "source": [
    "<h3>Task 6. Outperforming Newton method with Quasi-Newton method; Auxiliary score: -%</h3>"
   ]
  },
  {
   "cell_type": "markdown",
   "id": "0fdaf583-6e98-4f1a-ad05-1df097e43525",
   "metadata": {
    "tags": []
   },
   "source": [
    "<h2>Problems</h2>"
   ]
  },
  {
   "cell_type": "markdown",
   "id": "3419e406-a699-4bb4-b90c-b3a69dcbd552",
   "metadata": {
    "execution": {
     "iopub.execute_input": "2023-06-07T07:56:16.096989Z",
     "iopub.status.busy": "2023-06-07T07:56:16.096989Z",
     "iopub.status.idle": "2023-06-07T07:56:16.099992Z",
     "shell.execute_reply": "2023-06-07T07:56:16.099992Z",
     "shell.execute_reply.started": "2023-06-07T07:56:16.096989Z"
    }
   },
   "source": [
    "<h3>Problem 1:</h3>\n",
    "$$f(x_1, x_2)=100(x_2-x_1^2)^2+(1-x_1)^2$$\n",
    "$$f'(x_1, x_2)=\\begin{pmatrix}\n",
    "-400x_1(x_2-x_1^2)-2(1-x_1)\\\\ \n",
    "200(x_2-x_1^2)\\\\ \n",
    "\\end{pmatrix}$$\n",
    "$$f''(x_1, x_2)=\\begin{pmatrix}\n",
    "1200x_1^2-400x_2+2 & -400x_1\\\\ \n",
    "-400x_1 & 200\\\\ \n",
    "\\end{pmatrix}$$<br>\n",
    "Starting points $x_0$:\n",
    "$(1.2, 1.2), (-1.2, 1), (0.2, 0.8)$<br>\n",
    "with the minimum at $x^*=(1,1)$"
   ]
  },
  {
   "cell_type": "markdown",
   "id": "54c38519-9cc0-4e4d-855d-47fbfca25f3d",
   "metadata": {},
   "source": [
    "<h3>Problem 2:</h3>\n",
    "$$f(x_1, x_2)=150(x_1 x_2)^2+(0.5x_1 + 2x_2 - 2)^2$$\n",
    "$$f'(x_1, x_2)=\\begin{pmatrix}\n",
    "300x_2^2 x_1 + 0.5 x_1 + 2x_2 - 2\\\\ \n",
    "300x_1^2 x_2 + 2x_1 + 8x_2 - 8\\\\ \n",
    "\\end{pmatrix}$$\n",
    "$$f''(x_1, x_2)=\\begin{pmatrix}\n",
    "300x_2^2 +0.5 & 600x_1 x_2+2\\\\ \n",
    "600x_1 x_2+2 & 300x_1^2 +8\\\\ \n",
    "\\end{pmatrix}$$<br>\n",
    "\n",
    "Starting points $x_0$:\n",
    "$(-0.2, 1.2), (3.8, 0.1), (1.9, 0.6)$<br>\n",
    "with the minimums at $x^*=(0,1)$ and $x^*=(4,0)$ and a saddle point at $(0.43685, 0.10921)$"
   ]
  },
  {
   "cell_type": "markdown",
   "id": "28a381e4-2bcf-4b26-b738-6f03f7c9d041",
   "metadata": {
    "jp-MarkdownHeadingCollapsed": true,
    "tags": []
   },
   "source": [
    "<h2>Task 1. Newton method with Hessian modification</h2>"
   ]
  },
  {
   "cell_type": "markdown",
   "id": "39b672a4-6bc7-4d2a-a41b-4b863572345a",
   "metadata": {
    "jp-MarkdownHeadingCollapsed": true,
    "tags": []
   },
   "source": [
    "<h3>Problem 1 with $x_0 = (1.2, 1.2)$</h3>\n",
    "<h4>with exact derivatives</h4>\n",
    "Number of iterations: $8$<br>\n",
    "final iterate $x_k=[1, 1]$<br>\n",
    "remaining gradient norm: $1.4360\\cdot 10^{-11}$<br>\n",
    "distance to true solution: $1.7228\\cdot 10^{-13}$<br>\n",
    "\n",
    "<h4>with approximated derivatives</h4>\n",
    "Number of iterations: $8$<br>\n",
    "final iterate $x_k=[1, 1]$<br>\n",
    "remaining gradient norm: $1.6428\\cdot 10^{-11}$<br>\n",
    "distance to true solution: $6.5474\\cdot 10^{-11}$"
   ]
  },
  {
   "cell_type": "markdown",
   "id": "8801daf8-5370-4d84-9d26-c062a8ec0840",
   "metadata": {},
   "source": [
    "<h3>Problem 1 with $x_0 = (-1.2, 1)$</h3>\n",
    "<h4>with exact derivatives</h4>\n",
    "Number of iterations: $21$<br>\n",
    "final iterate $x_k=[1, 1]$<br>\n",
    "remaining gradient norm: $1.2167\\cdot 10^{-10}$<br>\n",
    "distance to true solution: $1.2165\\cdot 10^{-12}$<br>\n",
    "\n",
    "<h4>with approximated derivatives</h4>\n",
    "Number of iterations: $21$<br>\n",
    "final iterate $x_k=[1, 1]$<br>\n",
    "remaining gradient norm: $1.2045\\cdot 10^{-10}$<br>\n",
    "distance to true solution: $7.3274\\cdot 10^{-11}$"
   ]
  },
  {
   "cell_type": "markdown",
   "id": "52ffdf94-5c24-435a-ade4-2cb9e09cc93f",
   "metadata": {},
   "source": [
    "<h3>Problem 1 with $x_0 = (0.2, 0.8)$</h3>\n",
    "<h4>with exact derivatives</h4>\n",
    "Number of iterations: $10$<br>\n",
    "final iterate $x_k=[1, 1]$<br>\n",
    "remaining gradient norm: $5.6995\\cdot 10^{-8}$<br>\n",
    "distance to true solution: $4.5221\\cdot 10^{-9}$<br>\n",
    "\n",
    "<h4>with approximated derivatives</h4>\n",
    "Number of iterations: $10$<br>\n",
    "final iterate $x_k=[1, 1]$<br>\n",
    "remaining gradient norm: $5.6905\\cdot 10^{-8}$<br>\n",
    "distance to true solution: $4.6953\\cdot 10^{-9}$"
   ]
  },
  {
   "cell_type": "markdown",
   "id": "94be2a67-ea5f-4caf-bd7b-6733e06d3427",
   "metadata": {},
   "source": [
    "<h3>Problem 2 with $x_0 = (-0.2, 1.2)$</h3>\n",
    "<h4>with exact derivatives</h4>\n",
    "Number of iterations: $6$<br>\n",
    "final iterate $x_k=[-4.7128\\cdot 10^{-14}, 1]$<br>\n",
    "remaining gradient norm: $1.4029\\cdot 10^{-11}$<br>\n",
    "distance to true solution: $8.4708\\cdot 10^{-14}$<br>\n",
    "\n",
    "<h4>with approximated derivatives</h4>\n",
    "Number of iterations: $6$<br>\n",
    "final iterate $x_k=[-9.6774\\cdot 10^{-14}, 1]$<br>\n",
    "remaining gradient norm: $1.4024\\cdot 10^{-11}$<br>\n",
    "distance to true solution: $9.8431\\cdot 10^{-14}$"
   ]
  },
  {
   "cell_type": "markdown",
   "id": "6c2aa87b-f1df-41d7-833b-17dc3a989ad9",
   "metadata": {},
   "source": [
    "<h3>Problem 2 with $x_0 = (3.8, 0.1)$</h3>\n",
    "<h4>with exact derivatives</h4>\n",
    "Number of iterations: $6$<br>\n",
    "final iterate $x_k=[4, -4.8130\\cdot 10^{-17}]$<br>\n",
    "remaining gradient norm: $2.2383\\cdot 10^{-13}$<br>\n",
    "distance to true solution: $3.5530\\cdot 10^{-15}$<br>\n",
    "\n",
    "<h4>with approximated derivatives</h4>\n",
    "Number of iterations: $6$<br>\n",
    "final iterate $x_k=[4, -5.0097\\cdot 10^{-14}]$<br>\n",
    "remaining gradient norm: $2.2444\\cdot 10^{-13}$<br>\n",
    "distance to true solution: $1.3159\\cdot 10^{-13}$"
   ]
  },
  {
   "cell_type": "markdown",
   "id": "149a5020-e355-48e4-95c3-4184461cc15d",
   "metadata": {
    "jp-MarkdownHeadingCollapsed": true,
    "tags": []
   },
   "source": [
    "<h3>Problem 2 with $x_0 = (1.9, 0.6)$</h3>\n",
    "<h4>with exact derivatives</h4>\n",
    "Number of iterations: $7$<br>\n",
    "final iterate $x_k=[2.3054\\cdot 10^{-9}, 1]$<br>\n",
    "remaining gradient norm: $7.0546\\cdot 10^{-7}$<br>\n",
    "distance to true solution: $5.9734\\cdot 10^{-9}$<br>\n",
    "\n",
    "<h4>with approximated derivatives</h4>\n",
    "Number of iterations: $7$<br>\n",
    "final iterate $x_k=[2.3049\\cdot 10^{-9},1]$<br>\n",
    "remaining gradient norm: $7.0534\\cdot 10^{-7}$<br>\n",
    "distance to true solution: $5.9766\\cdot 10^{-9}$"
   ]
  },
  {
   "cell_type": "markdown",
   "id": "e64bfe1d-14ee-4b05-945d-6cbc17b4a397",
   "metadata": {},
   "source": [
    "<h2>Task 2. Linear CG</h2>"
   ]
  },
  {
   "cell_type": "markdown",
   "id": "6a9cceef-6bad-461e-8fe0-01ef680b6b39",
   "metadata": {
    "execution": {
     "iopub.execute_input": "2023-06-07T09:35:50.600936Z",
     "iopub.status.busy": "2023-06-07T09:35:50.600936Z",
     "iopub.status.idle": "2023-06-07T09:35:50.604440Z",
     "shell.execute_reply": "2023-06-07T09:35:50.603940Z",
     "shell.execute_reply.started": "2023-06-07T09:35:50.600936Z"
    },
    "tags": []
   },
   "source": [
    "<h2>Task 3. Nonlinear CG</h2>"
   ]
  },
  {
   "cell_type": "markdown",
   "id": "9e7cc949-3071-486e-9027-d44b47892ff9",
   "metadata": {
    "jp-MarkdownHeadingCollapsed": true,
    "tags": []
   },
   "source": [
    "<h3>3.1  Fletcher-Reevers method</h3>"
   ]
  },
  {
   "cell_type": "markdown",
   "id": "9adf88f6-4e68-4c13-bfcd-eb2922e5890f",
   "metadata": {},
   "source": [
    "<h3>Problem 1 with $x_0 = (1.2, 1.2)$</h3>\n",
    "<h4>with exact derivatives</h4>\n",
    "Number of iterations: $25$<br>\n",
    "final iterate $x_k=[1.00000013, 1.00000026]$<br>\n",
    "remaining gradient norm: $1.263870640254154\\cdot 10^{-7}$<br>\n",
    "distance to true solution: $2.894467563197801\\cdot 10^{-7}$<br>\n",
    "\n",
    "<h4>with approximated derivatives</h4>\n",
    "Number of iterations: $27$<br>\n",
    "final iterate $x_k=[1.00000007, 1.00000014]$<br>\n",
    "remaining gradient norm: $1.5649309515378304\\cdot 10^{-7}$<br>\n",
    "distance to true solution: $1.6107590747137393\\cdot 10^{-7}$<br>"
   ]
  },
  {
   "cell_type": "markdown",
   "id": "020170f3-7d69-468e-b220-2aba1249d4b5",
   "metadata": {},
   "source": [
    "<h3>Problem 1 with $x_0 = (-1.2, 1)$</h3>\n",
    "<h4>with exact derivatives</h4>\n",
    "Number of iterations: $28$<br>\n",
    "final iterate $x_k=[1.00000001, 1.00000003]$<br>\n",
    "remaining gradient norm: $2.2557628793982757\\cdot 10^{-7}$<br>\n",
    "distance to true solution: $3.326187508232351\\cdot 10^{-8}$<br>\n",
    "\n",
    "<h4>with approximated derivatives</h4>\n",
    "Number of iterations: $53$<br>\n",
    "final iterate $x_k=[0.99999942, 0.99999884]$<br>\n",
    "remaining gradient norm: $6.497988278230722\\cdot 10^{-7}$<br>\n",
    "distance to true solution: $1.2935260540574797\\cdot 10^{-6}$<br>"
   ]
  },
  {
   "cell_type": "markdown",
   "id": "a54db876-7118-46e6-88d7-653529b6b688",
   "metadata": {},
   "source": [
    "<h3>Problem 1 with $x_0 = (0.2, 0.8)$</h3>\n",
    "<h4>with exact derivatives</h4>\n",
    "Number of iterations: $38$<br>\n",
    "final iterate $x_k=[0.99999989, 0.99999978]$<br>\n",
    "remaining gradient norm: $2.6988158080036105\\cdot 10^{-7}$<br>\n",
    "distance to true solution: $2.4580223519951956\\cdot 10^{-7}$<br>\n",
    "\n",
    "<h4>with approximated derivatives</h4>\n",
    "Number of iterations: $31$<br>\n",
    "final iterate $x_k=[0.99999947, 0.99999889]$<br>\n",
    "remaining gradient norm: $8.905659806391347\\cdot 10^{-7}$<br>\n",
    "distance to true solution: $1.2338388756605233\\cdot 10^{-6}$<br>"
   ]
  },
  {
   "cell_type": "markdown",
   "id": "ec90d2a8-7bb0-418a-bf4d-be9f54dcb566",
   "metadata": {},
   "source": [
    "<h3>Problem 2 with $x_0 = (-0.2, 1.2)$</h3>\n",
    "<h4>with exact derivatives</h4>\n",
    "Number of iterations: $18$<br>\n",
    "final iterate $x_k=[-7.63209072\\cdot 10^{-9}, 1.00000003]$<br>\n",
    "remaining gradient norm: $8.577078806154567\\cdot 10^{-7}$<br>\n",
    "distance to true solution: $3.467875748951823\\cdot 10^{-8}$<br>\n",
    "\n",
    "<h4>with approximated derivatives</h4>\n",
    "Number of iterations: $19$<br>\n",
    "final iterate $x_k=[2.16718027\\cdot 10^{-10}, 1.00000006]$<br>\n",
    "remaining gradient norm: $8.933683397147145\\cdot 10^{-7}$<br>\n",
    "distance to true solution: $6.054347242283224\\cdot 10^{-8}$<br>"
   ]
  },
  {
   "cell_type": "markdown",
   "id": "15261082-1fdd-4da1-9491-9251a59f4b7f",
   "metadata": {},
   "source": [
    "<h3>Problem 2 with $x_0 = (3.8, 0.1)$</h3>\n",
    "<h4>with exact derivatives</h4>\n",
    "Number of iterations: $16$<br>\n",
    "final iterate $x_k=[3.99999881, 2.31807799\\cdot 10^{-9}]$<br>\n",
    "remaining gradient norm: $6.748688196933661\\cdot 10^{-7}$<br>\n",
    "distance to true solution: $1.1939895077336335\\cdot 10^{-6}$<br>\n",
    "\n",
    "<h4>with approximated derivatives</h4>\n",
    "Number of iterations: $21$<br>\n",
    "final iterate $x_k=[3.99999988, 3.76574384\\cdot 10^{-11}]$<br>\n",
    "remaining gradient norm: $6.507048012737627\\cdot 10^{-7}$<br>\n",
    "distance to true solution: $1.1541830461739944\\cdot 10^{-8}$<br>"
   ]
  },
  {
   "cell_type": "markdown",
   "id": "a350e583-f364-4560-8444-8271709d2411",
   "metadata": {},
   "source": [
    "<h3>Problem 2 with $x_0 = (1.9, 0.6)$</h3>\n",
    "<h4>with exact derivatives</h4>\n",
    "Number of iterations: $46$<br>\n",
    "final iterate $x_k=[1.62764084\\cdot 10^{-9},  1.00000002]$<br>\n",
    "remaining gradient norm: $5.422513290866159\\cdot 10^{-7}$<br>\n",
    "distance to true solution: $2.4069866772843072\\cdot 10^{-8}$<br>\n",
    "\n",
    "<h4>with approximated derivatives</h4>\n",
    "Number of iterations: $47$<br>\n",
    "final iterate $x_k=[9.54964452\\cdot 10^{-10},  1.00000001]$<br>\n",
    "remaining gradient norm: $7.718023557670397\\cdot 10^{-7}$<br>\n",
    "distance to true solution: $6.070077952904949\\cdot 10^{-9}$<br>"
   ]
  },
  {
   "cell_type": "markdown",
   "id": "fa25e6cd-53b4-47ae-a770-ff81551bbbfc",
   "metadata": {},
   "source": [
    "<h3>3.2  Polak-Ribiere method </h3><h3>Problem 1 with $x_0 = (1.2, 1.2)$</h3>"
   ]
  },
  {
   "cell_type": "markdown",
   "id": "a294062e-e478-4fff-9ce4-68a835df7300",
   "metadata": {},
   "source": [
    "<h4>with exact derivatives</h4>\n",
    "Number of iterations: $9$<br>\n",
    "final iterate $x_k=[0.99999834, 0.99999668]$<br>\n",
    "remaining gradient norm: $6.695125872947863\\cdot 10^{-5}$ (higher stopping criterion no better solution was found)<br>\n",
    "distance to true solution: $3.7125133824569337\\cdot 10^{-6}$<br>\n",
    "\n",
    "<h4>with approximated derivatives</h4>\n",
    "Number of iterations: $9$<br>\n",
    "final iterate $x_k=[0.99999834, 0.99999668]$<br>\n",
    "remaining gradient norm: $6.695119293299372\\cdot 10^{-5}$(higher stopping criterion no better solution was found)<br>\n",
    "distance to true solution: $3.71275340641839\\cdot 10^{-6}$"
   ]
  },
  {
   "cell_type": "markdown",
   "id": "5521fb76-307e-4ebe-90e3-e8ff451a5ad6",
   "metadata": {},
   "source": [
    "<h3>Problem 1 with $x_0 = (-1.2, 1)$</h3>\n",
    "<h4>with exact derivatives</h4>\n",
    "Number of iterations: $21$<br>\n",
    "final iterate $x_k=[0.99999999, 0.99999997]$<br>\n",
    "remaining gradient norm: $5.0037456098004346\\cdot 10^{-8}$<br>\n",
    "distance to true solution: $2.903148752788535\\cdot 10^{-8}$<br>\n",
    "\n",
    "<h4>with approximated derivatives</h4>\n",
    "Number of iterations: $23$<br>\n",
    "final iterate $x_k=[0.99999997, 0.99999995]$<br>\n",
    "remaining gradient norm: $5.982604919186785\\cdot 10^{-8}$<br>\n",
    "distance to true solution: $6.012098698681705\\cdot 10^{-8}$<br>"
   ]
  },
  {
   "cell_type": "markdown",
   "id": "4521f57d-89e0-48bd-96d1-d27f25280e43",
   "metadata": {},
   "source": [
    "<h3>Problem 1 with $x_0 = (0.2, 0.8)$</h3>\n",
    "<h4>with exact derivatives</h4>\n",
    "Number of iterations: $23$<br>\n",
    "final iterate $x_k=[0.99999999, 0.99999998]$<br>\n",
    "remaining gradient norm: $3.57694024900432\\cdot 10^{-8}$<br>\n",
    "distance to true solution: $2.5717773261873275\\cdot 10^{-8}$<br>\n",
    "\n",
    "<h4>with approximated derivatives</h4>\n",
    "Number of iterations: $23$<br>\n",
    "final iterate $x_k=[0.99999999, 0.99999998$<br>\n",
    "remaining gradient norm: $4.1495660773830475\\cdot 10^{-8}$<br>\n",
    "distance to true solution: $2.772791361793035\\cdot 10^{-8}$<br>"
   ]
  },
  {
   "cell_type": "markdown",
   "id": "75ffceea-51d5-4d2b-b9bf-78be5a95accc",
   "metadata": {},
   "source": [
    "<h3>Problem 2 with $x_0 = (-0.2, 1.2)$</h3>\n",
    "<h4>with exact derivatives</h4>\n",
    "Number of iterations: $11$<br>\n",
    "final iterate $x_k=[4.04684699\\cdot 10^{-11}, 1.00000000]$<br>\n",
    "remaining gradient norm: $2.4467088500458774\\cdot 10^{-8}$<br>\n",
    "distance to true solution: $2.0498779623647657\\cdot 10^{-10}$<br>\n",
    "\n",
    "<h4>with approximated derivatives</h4>\n",
    "Number of iterations: $10$<br>\n",
    "final iterate $x_k=[1.27190298\\cdot 10^{-10}, 1.00000000]$<br>\n",
    "remaining gradient norm: $6.205889343462998\\cdot 10^{-8}$<br>\n",
    "distance to true solution: $1.34725733868438\\cdot 10^{-10}$<br>"
   ]
  },
  {
   "cell_type": "markdown",
   "id": "9268ac0d-8755-42c9-a071-5a0f634fb52c",
   "metadata": {},
   "source": [
    "<h3>Problem 2 with $x_0 = (3.8, 0.1)$</h3>\n",
    "no sol yet"
   ]
  },
  {
   "cell_type": "markdown",
   "id": "8b6c8bf5-8627-4dd9-bedf-5fe2841ae180",
   "metadata": {},
   "source": [
    "<h3>Problem 2 with $x_0 = (1.9, 0.6)$</h3>\n",
    "<h4>with exact derivatives</h4>\n",
    "Number of iterations: $18$<br>\n",
    "final iterate $x_k=[-2.14344734\\cdot 10^{-9},  0.999999996]$<br>\n",
    "remaining gradient norm: $3.018262999299584\\cdot 10^{-7}$<br>\n",
    "distance to true solution: $4.6337404549900195\\cdot 10^{-9}$<br>\n",
    "\n",
    "<h4>with approximated derivatives</h4>\n",
    "Number of iterations: $18$<br>\n",
    "final iterate $x_k=[-2.14349708\\cdot 10^{-10},  0.999999996]$<br>\n",
    "remaining gradient norm: $3.0182629832889444\\cdot 10^{-7}$<br>\n",
    "distance to true solution: $4.633796735952285\\cdot 10^{-9}$<br>"
   ]
  },
  {
   "cell_type": "markdown",
   "id": "576d6973-edec-4853-aa3f-4261490ab9a5",
   "metadata": {
    "tags": []
   },
   "source": [
    "<h2>Task 4. Quasi-Newton methods</h2>"
   ]
  },
  {
   "cell_type": "markdown",
   "id": "8dca1e4d-be89-4ecc-8f1b-e8e371a383a6",
   "metadata": {},
   "source": [
    "<h3>4.1 BFSG</h3>"
   ]
  },
  {
   "cell_type": "markdown",
   "id": "c6ddd3eb-e784-4b01-ba91-8f9079c424ba",
   "metadata": {
    "tags": []
   },
   "source": [
    "<h3>Problem 1 with $x_0 = (1.2, 1.2)$</h3>\n",
    "<h4>with exact derivatives</h4>\n",
    "Number of iterations: $195$<br>\n",
    "final iterate $x_k=[1, 1]$<br>\n",
    "remaining gradient norm: $5.8051\\cdot 10^{-7}$<br>\n",
    "distance to true solution: $1.0089\\cdot 10^{-6}$<br>\n",
    "\n",
    "<h4>with approximated derivatives</h4>\n",
    "Number of iterations: $440$<br>\n",
    "final iterate $x_k=[1,1]$<br>\n",
    "remaining gradient norm: $1.4778\\cdot 10^{-7}$<br>\n",
    "distance to true solution: $3.6897\\cdot 10^{-7}$"
   ]
  },
  {
   "cell_type": "markdown",
   "id": "c956751d-8f0c-47db-9129-0a00b1878577",
   "metadata": {
    "jp-MarkdownHeadingCollapsed": true,
    "tags": []
   },
   "source": [
    "<h3>Problem 1 with $x_0 = (-1.2, 1)$</h3>\n",
    "<h4>with exact derivatives</h4>\n",
    "Number of iterations: $161$<br>\n",
    "final iterate $x_k=[1, 1]$<br>\n",
    "remaining gradient norm: $6.4428\\cdot 10^{-7}$<br>\n",
    "distance to true solution: $1.6095\\cdot 10^{-6}$<br>\n",
    "\n",
    "<h4>with approximated derivatives</h4>\n",
    "Number of iterations: $250$<br>\n",
    "final iterate $x_k=[1,1]$<br>\n",
    "remaining gradient norm: $8.8842\\cdot 10^{-8}$<br>\n",
    "distance to true solution: $3.1501\\cdot 10^{-8}$"
   ]
  },
  {
   "cell_type": "markdown",
   "id": "0743edfd-46a3-4fb3-acd5-12e7ea8f7e69",
   "metadata": {
    "jp-MarkdownHeadingCollapsed": true,
    "tags": []
   },
   "source": [
    "<h3>Problem 1 with $x_0 = (0.2, 0.8)$</h3>\n",
    "<h4>with exact derivatives</h4>\n",
    "Number of iterations: $122$<br>\n",
    "final iterate $x_k=[1, 1]$<br>\n",
    "remaining gradient norm: $9.7809\\cdot 10^{-7}$<br>\n",
    "distance to true solution: $1.2065\\cdot 10^{-6}$<br>\n",
    "\n",
    "<h4>with approximated derivatives</h4>\n",
    "Number of iterations: $238$<br>\n",
    "final iterate $x_k=[1, 1]$<br>\n",
    "remaining gradient norm: $8.1347\\cdot 10^{-7}$<br>\n",
    "distance to true solution: $7.6238\\cdot 10^{-7}$"
   ]
  },
  {
   "cell_type": "markdown",
   "id": "5d37fdbb-8cdc-4d3e-a219-f4253c733e5b",
   "metadata": {
    "jp-MarkdownHeadingCollapsed": true,
    "tags": []
   },
   "source": [
    "<h3>Problem 2 with $x_0 = (-0.2, 1.2)$</h3>\n",
    "<h4>with exact derivatives</h4>\n",
    "Number of iterations: $40$<br>\n",
    "final iterate $x_k=[-2.7036\\cdot 10^{-9}, 1]$<br>\n",
    "remaining gradient norm: $9.6031\\cdot 10^{-7}$<br>\n",
    "distance to true solution: $9.1327\\cdot 10^{-8}$<br>\n",
    "\n",
    "<h4>with approximated derivatives</h4>\n",
    "Number of iterations: $40$<br>\n",
    "final iterate $x_k=[-2.7037\\cdot 10^{-9},1]$<br>\n",
    "remaining gradient norm: $9.6031\\cdot 10^{-7}$<br>\n",
    "distance to true solution: $9.1327\\cdot 10^{-8}$"
   ]
  },
  {
   "cell_type": "markdown",
   "id": "61455a2f-48c7-4ed7-8a74-8560e73f63b6",
   "metadata": {
    "jp-MarkdownHeadingCollapsed": true,
    "tags": []
   },
   "source": [
    "<h3>Problem 2 with $x_0 = (3.8, 0.1)$</h3>\n",
    "<h4>with exact derivatives</h4>\n",
    "Number of iterations: $667$<br>\n",
    "final iterate $x_k=[4, 7.473\\cdot 10^{-10}]$<br>\n",
    "remaining gradient norm: $9.3962\\cdot 10^{-7}$<br>\n",
    "distance to true solution: $1.8632\\cdot 10^{-6}$<br>\n",
    "\n",
    "<h4>with approximated derivatives</h4>\n",
    "Number of iterations: $895$<br>\n",
    "final iterate $x_k=[4, 8.0931\\cdot 10^{-11}]$<br>\n",
    "remaining gradient norm: $9.579\\cdot 10^{-8}$<br>\n",
    "distance to true solution: $1.9148\\cdot 10^{-7}$"
   ]
  },
  {
   "cell_type": "markdown",
   "id": "49448a1d-4f64-4671-a026-94be3bea0368",
   "metadata": {
    "jp-MarkdownHeadingCollapsed": true,
    "tags": []
   },
   "source": [
    "<h3>Problem 2 with $x_0 = (1.9, 0.6)$</h3>\n",
    "<h4>with exact derivatives</h4>\n",
    "Number of iterations: $223$<br>\n",
    "final iterate $x_k=[2.4801\\cdot 10^{-9}, 1]$<br>\n",
    "remaining gradient norm: $9.3417\\cdot 10^{-7}$<br>\n",
    "distance to true solution: $4.9439\\cdot 10^{-8}$<br>\n",
    "\n",
    "<h4>with approximated derivatives</h4>\n",
    "Number of iterations: $223$<br>\n",
    "final iterate $x_k=[2.4807\\cdot 10^{-9},1]$<br>\n",
    "remaining gradient norm: $9.3417\\cdot 10^{-7}$<br>\n",
    "distance to true solution: $4.9439\\cdot 10^{-8}$"
   ]
  },
  {
   "cell_type": "markdown",
   "id": "39da7d79-d4fc-4a60-ab73-0ff1f0c65b25",
   "metadata": {},
   "source": [
    "<h3>4.2 SR1</h3>"
   ]
  },
  {
   "cell_type": "markdown",
   "id": "cba96e0c-87cb-4bb0-acf6-23451db79042",
   "metadata": {
    "jp-MarkdownHeadingCollapsed": true,
    "tags": []
   },
   "source": [
    "<h3>Problem 1 with $x_0 = (1.2, 1.2)$</h3>\n",
    "<h4>with exact derivatives</h4>\n",
    "Number of iterations: $11$<br>\n",
    "final iterate $x_k=[1, 1]$<br>\n",
    "remaining gradient norm: $3.9149\\cdot 10^{-8}$<br>\n",
    "distance to true solution: $2.6507\\cdot 10^{-9}$<br>\n",
    "\n",
    "<h4>with approximated derivatives</h4>\n",
    "Number of iterations: $11$<br>\n",
    "final iterate $x_k=[1,1]$<br>\n",
    "remaining gradient norm: $3.9149\\cdot 10^{-8}$<br>\n",
    "distance to true solution: $2.5834\\cdot 10^{-9}$"
   ]
  },
  {
   "cell_type": "markdown",
   "id": "a768d850-700f-4933-99ee-fca9409581af",
   "metadata": {
    "tags": []
   },
   "source": [
    "<h3>Problem 1 with $x_0 = (-1.2, 1)$</h3>\n",
    "<h4>with exact derivatives</h4>\n",
    "Number of iterations: $38$<br>\n",
    "final iterate $x_k=[1, 1]$<br>\n",
    "remaining gradient norm: $1.885\\cdot 10^{-7}$<br>\n",
    "distance to true solution: $4.717\\cdot 10^{-7}$<br>\n",
    "\n",
    "<h4>with approximated derivatives</h4>\n",
    "Number of iterations: $37$<br>\n",
    "final iterate $x_k=[1,1]$<br>\n",
    "remaining gradient norm: $5.3137\\cdot 10^{-7}$<br>\n",
    "distance to true solution: $1.1511\\cdot 10^{-6}$"
   ]
  },
  {
   "cell_type": "markdown",
   "id": "afd5fb5a-3582-42d5-993b-d1b567031251",
   "metadata": {
    "jp-MarkdownHeadingCollapsed": true,
    "tags": []
   },
   "source": [
    "<h3>Problem 1 with $x_0 = (0.2, 0.8)$</h3>\n",
    "<h4>with exact derivatives</h4>\n",
    "Number of iterations: $25$<br>\n",
    "final iterate $x_k=[1, 1]$<br>\n",
    "remaining gradient norm: $4.0677\\cdot 10^{-7}$<br>\n",
    "distance to true solution: $2.4573\\cdot 10^{-9}$<br>\n",
    "\n",
    "<h4>with approximated derivatives</h4>\n",
    "Number of iterations: $25$<br>\n",
    "final iterate $x_k=[1,1]$<br>\n",
    "remaining gradient norm: $4.0674\\cdot 10^{-7}$<br>\n",
    "distance to true solution: $2.3908\\cdot 10^{-9}$"
   ]
  },
  {
   "cell_type": "markdown",
   "id": "35c69d5e-ba45-4553-8feb-c361271acba7",
   "metadata": {
    "jp-MarkdownHeadingCollapsed": true,
    "tags": []
   },
   "source": [
    "<h3>Problem 2 with $x_0 = (-0.2, 1.2)$</h3>\n",
    "<h4>with exact derivatives</h4>\n",
    "Number of iterations: $9$<br>\n",
    "final iterate $x_k=[6.2311\\cdot 10^{-10}, 1]$<br>\n",
    "remaining gradient norm: $1.9377\\cdot 10^{-7}$<br>\n",
    "distance to true solution: $2.6959\\cdot 10^{-9}$<br>\n",
    "\n",
    "<h4>with approximated derivatives</h4>\n",
    "Number of iterations: $9$<br>\n",
    "final iterate $x_k=[6.2306\\cdot 10^{-10},1]$<br>\n",
    "remaining gradient norm: $1.9377\\cdot 10^{-7}$<br>\n",
    "distance to true solution: $2.6958\\cdot 10^{-9}$"
   ]
  },
  {
   "cell_type": "markdown",
   "id": "bff2d629-e77c-4c7b-9121-3758b8264d60",
   "metadata": {
    "tags": []
   },
   "source": [
    "<h3>Problem 2 with $x_0 = (3.8, 0.1)$</h3>\n",
    "<h4>with exact derivatives</h4>\n",
    "Number of iterations: $6$<br>\n",
    "final iterate $x_k=[4, 4.104\\cdot 10^{-10}]$<br>\n",
    "remaining gradient norm: $5.0528\\cdot 10^{-7}$<br>\n",
    "distance to true solution: $1.0084\\cdot 10^{-6}$<br>\n",
    "\n",
    "<h4>with approximated derivatives</h4>\n",
    "Number of iterations: $6$<br>\n",
    "final iterate $x_k=[4, 4.103\\cdot 10^{-10}]$<br>\n",
    "remaining gradient norm: $5.0528\\cdot 10^{-7}$<br>\n",
    "distance to true solution: $1.0084\\cdot 10^{-6}$"
   ]
  },
  {
   "cell_type": "markdown",
   "id": "169aa597-e5f2-470f-8376-dc5a1366e50d",
   "metadata": {
    "tags": []
   },
   "source": [
    "<h3>Problem 2 with $x_0 = (1.9, 0.6)$</h3>\n",
    "<h4>with exact derivatives</h4>\n",
    "Number of iterations: $11$<br>\n",
    "final iterate $x_k=[4, 2.2563\\cdot 10^{-11}]$<br>\n",
    "remaining gradient norm: $1.0531\\cdot 10^{-7}$<br>\n",
    "distance to true solution: $1.5876\\cdot 10^{-9}$<br>\n",
    "\n",
    "<h4>with approximated derivatives</h4>\n",
    "Number of iterations: $11$<br>\n",
    "final iterate $x_k=[4, 2.2513\\cdot 10^{-11}]$<br>\n",
    "remaining gradient norm: $1.0531\\cdot 10^{-7}$<br>\n",
    "distance to true solution: $1.5875\\cdot 10^{-9}$"
   ]
  },
  {
   "cell_type": "markdown",
   "id": "d4314de3-a94a-4bee-9738-e94535494715",
   "metadata": {},
   "source": [
    "<h2>Task 5. Derivative approximation</h2>"
   ]
  },
  {
   "cell_type": "markdown",
   "id": "44c78d0b-d457-49b2-98b6-d3fa092eccba",
   "metadata": {},
   "source": [
    "<h2>Task 6. Outperforming Newton method with Quasi-Newton method</h2>"
   ]
  },
  {
   "cell_type": "code",
   "execution_count": null,
   "id": "d7502340-0f24-443c-9bbb-38e65d03afd5",
   "metadata": {},
   "outputs": [],
   "source": []
  }
 ],
 "metadata": {
  "kernelspec": {
   "display_name": "Python 3 (ipykernel)",
   "language": "python",
   "name": "python3"
  },
  "language_info": {
   "codemirror_mode": {
    "name": "ipython",
    "version": 3
   },
   "file_extension": ".py",
   "mimetype": "text/x-python",
   "name": "python",
   "nbconvert_exporter": "python",
   "pygments_lexer": "ipython3",
   "version": "3.9.12"
  }
 },
 "nbformat": 4,
 "nbformat_minor": 5
}
