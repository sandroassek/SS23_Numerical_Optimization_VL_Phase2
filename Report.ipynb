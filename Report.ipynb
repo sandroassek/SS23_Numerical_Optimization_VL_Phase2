{
 "cells": [
  {
   "cell_type": "markdown",
   "id": "39640edf-f050-40dc-a932-add3165e0891",
   "metadata": {},
   "source": [
    "# Report for Project 1 Phase 2"
   ]
  },
  {
   "cell_type": "markdown",
   "id": "b46dfab4-d7c1-443b-be92-11716addd405",
   "metadata": {
    "execution": {
     "iopub.execute_input": "2023-06-07T07:42:36.860629Z",
     "iopub.status.busy": "2023-06-07T07:42:36.860629Z",
     "iopub.status.idle": "2023-06-07T07:42:36.865634Z",
     "shell.execute_reply": "2023-06-07T07:42:36.865634Z",
     "shell.execute_reply.started": "2023-06-07T07:42:36.860629Z"
    }
   },
   "source": [
    "<h3>Task 1. Newton method with Hessian modification; Auxiliary score: 100%</h3>"
   ]
  },
  {
   "cell_type": "markdown",
   "id": "3d627563-5c63-4eec-8460-81c0bfef69cf",
   "metadata": {
    "execution": {
     "iopub.execute_input": "2023-06-07T07:48:58.871456Z",
     "iopub.status.busy": "2023-06-07T07:48:58.870956Z",
     "iopub.status.idle": "2023-06-07T07:48:58.873959Z",
     "shell.execute_reply": "2023-06-07T07:48:58.873959Z",
     "shell.execute_reply.started": "2023-06-07T07:48:58.871456Z"
    }
   },
   "source": [
    "<h3>Task 2. Linear CG; Auxiliary score: 100%</h3>"
   ]
  },
  {
   "cell_type": "markdown",
   "id": "57bb4269-3976-430d-ab4a-f333c5d32bc3",
   "metadata": {
    "execution": {
     "iopub.execute_input": "2023-06-07T07:49:00.581814Z",
     "iopub.status.busy": "2023-06-07T07:49:00.581814Z",
     "iopub.status.idle": "2023-06-07T07:49:00.584817Z",
     "shell.execute_reply": "2023-06-07T07:49:00.584817Z",
     "shell.execute_reply.started": "2023-06-07T07:49:00.581814Z"
    }
   },
   "source": [
    "<h3>Task 3. Nonlinear CG; Auxiliary score: -%</h3>"
   ]
  },
  {
   "cell_type": "markdown",
   "id": "30a0fe35-a639-4bb7-abcd-76697e39b347",
   "metadata": {
    "execution": {
     "iopub.execute_input": "2023-06-07T07:49:01.314870Z",
     "iopub.status.busy": "2023-06-07T07:49:01.314870Z",
     "iopub.status.idle": "2023-06-07T07:49:01.317871Z",
     "shell.execute_reply": "2023-06-07T07:49:01.317871Z",
     "shell.execute_reply.started": "2023-06-07T07:49:01.314870Z"
    }
   },
   "source": [
    "<h3>Task 4. Quasi-Newton methods; Auxiliary score: -%</h3>"
   ]
  },
  {
   "cell_type": "markdown",
   "id": "257635b4-e06a-432d-9938-afb721f69c7b",
   "metadata": {
    "execution": {
     "iopub.execute_input": "2023-06-07T07:49:06.164943Z",
     "iopub.status.busy": "2023-06-07T07:49:06.164443Z",
     "iopub.status.idle": "2023-06-07T07:49:06.168446Z",
     "shell.execute_reply": "2023-06-07T07:49:06.168446Z",
     "shell.execute_reply.started": "2023-06-07T07:49:06.164943Z"
    }
   },
   "source": [
    "<h3>Task 5. Derivative approximation; Auxiliary score: -%</h3>"
   ]
  },
  {
   "cell_type": "markdown",
   "id": "4ee380a3-06a3-42e1-b244-ea99a2d82de1",
   "metadata": {
    "execution": {
     "iopub.execute_input": "2023-06-07T07:49:07.140683Z",
     "iopub.status.busy": "2023-06-07T07:49:07.140683Z",
     "iopub.status.idle": "2023-06-07T07:49:07.144187Z",
     "shell.execute_reply": "2023-06-07T07:49:07.143686Z",
     "shell.execute_reply.started": "2023-06-07T07:49:07.140683Z"
    }
   },
   "source": [
    "<h3>Task 6. Outperforming Newton method with Quasi-Newton method; Auxiliary score: -%</h3>"
   ]
  },
  {
   "cell_type": "markdown",
   "id": "0fdaf583-6e98-4f1a-ad05-1df097e43525",
   "metadata": {
    "tags": []
   },
   "source": [
    "<h2>Problems</h2>"
   ]
  },
  {
   "cell_type": "markdown",
   "id": "3419e406-a699-4bb4-b90c-b3a69dcbd552",
   "metadata": {
    "execution": {
     "iopub.execute_input": "2023-06-07T07:56:16.096989Z",
     "iopub.status.busy": "2023-06-07T07:56:16.096989Z",
     "iopub.status.idle": "2023-06-07T07:56:16.099992Z",
     "shell.execute_reply": "2023-06-07T07:56:16.099992Z",
     "shell.execute_reply.started": "2023-06-07T07:56:16.096989Z"
    }
   },
   "source": [
    "<h3>Problem 1:</h3>\n",
    "$$f(x_1, x_2)=100(x_2-x_1^2)^2+(1-x_1)^2$$\n",
    "$$f'(x_1, x_2)=\\begin{pmatrix}\n",
    "-400x_1(x_2-x_1^2)-2(1-x_1)\\\\ \n",
    "200(x_2-x_1^2)\\\\ \n",
    "\\end{pmatrix}$$\n",
    "$$f''(x_1, x_2)=\\begin{pmatrix}\n",
    "1200x_1^2-400x_2+2 & -400x_1\\\\ \n",
    "-400x_1 & 200\\\\ \n",
    "\\end{pmatrix}$$<br>\n",
    "Starting points $x_0$:\n",
    "$(1.2, 1.2), (-1.2, 1), (0.2, 0.8)$<br>\n",
    "with the minimum at $x^*=(1,1)$"
   ]
  },
  {
   "cell_type": "markdown",
   "id": "54c38519-9cc0-4e4d-855d-47fbfca25f3d",
   "metadata": {},
   "source": [
    "<h3>Problem 2:</h3>\n",
    "$$f(x_1, x_2)=150(x_1 x_2)^2+(0.5x_1 + 2x_2 - 2)^2$$\n",
    "$$f'(x_1, x_2)=\\begin{pmatrix}\n",
    "300x_2^2 x_1 + 0.5 x_1 + 2x_2 - 2\\\\ \n",
    "300x_1^2 x_2 + 2x_1 + 8x_2 - 8\\\\ \n",
    "\\end{pmatrix}$$\n",
    "$$f''(x_1, x_2)=\\begin{pmatrix}\n",
    "300x_2^2 +0.5 & 600x_1 x_2+2\\\\ \n",
    "600x_1 x_2+2 & 300x_1^2 +8\\\\ \n",
    "\\end{pmatrix}$$<br>\n",
    "\n",
    "Starting points $x_0$:\n",
    "$(-0.2, 1.2), (3.8, 0.1), (1.9, 0.6)$<br>\n",
    "with the minimums at $x^*=(0,1)$ and $x^*=(4,0)$ and a saddle point at $(0.43685, 0.10921)$"
   ]
  },
  {
   "cell_type": "markdown",
   "id": "28a381e4-2bcf-4b26-b738-6f03f7c9d041",
   "metadata": {},
   "source": [
    "<h2>Task 1. Newton method with Hessian modification</h2>"
   ]
  },
  {
   "cell_type": "markdown",
   "id": "39b672a4-6bc7-4d2a-a41b-4b863572345a",
   "metadata": {},
   "source": [
    "<h3>Problem 1 with $x_0 = (1.2, 1.2)$</h3>\n",
    "<h4>with exact derivatives</h4>\n",
    "Number of iterations: $8$<br>\n",
    "final iterate $x_k=[1, 1]$<br>\n",
    "remaining gradient norm: $1.4360\\cdot 10^{-11}$<br>\n",
    "distance to true solution: $1.7228\\cdot 10^{-13}$<br>\n",
    "\n",
    "<h4>with approximated derivatives</h4>\n",
    "Number of iterations: $8$<br>\n",
    "final iterate $x_k=[1, 1]$<br>\n",
    "remaining gradient norm: $1.6428\\cdot 10^{-11}$<br>\n",
    "distance to true solution: $6.5474\\cdot 10^{-11}$"
   ]
  },
  {
   "cell_type": "markdown",
   "id": "8801daf8-5370-4d84-9d26-c062a8ec0840",
   "metadata": {},
   "source": [
    "<h3>Problem 1 with $x_0 = (-1.2, 1)$</h3>\n",
    "<h4>with exact derivatives</h4>\n",
    "Number of iterations: $21$<br>\n",
    "final iterate $x_k=[1, 1]$<br>\n",
    "remaining gradient norm: $1.2167\\cdot 10^{-10}$<br>\n",
    "distance to true solution: $1.2165\\cdot 10^{-12}$<br>\n",
    "\n",
    "<h4>with approximated derivatives</h4>\n",
    "Number of iterations: $21$<br>\n",
    "final iterate $x_k=[1, 1]$<br>\n",
    "remaining gradient norm: $1.2045\\cdot 10^{-10}$<br>\n",
    "distance to true solution: $7.3274\\cdot 10^{-11}$"
   ]
  },
  {
   "cell_type": "markdown",
   "id": "52ffdf94-5c24-435a-ade4-2cb9e09cc93f",
   "metadata": {},
   "source": [
    "<h3>Problem 1 with $x_0 = (0.2, 0.8)$</h3>\n",
    "<h4>with exact derivatives</h4>\n",
    "Number of iterations: $10$<br>\n",
    "final iterate $x_k=[1, 1]$<br>\n",
    "remaining gradient norm: $5.6995\\cdot 10^{-8}$<br>\n",
    "distance to true solution: $4.5221\\cdot 10^{-9}$<br>\n",
    "\n",
    "<h4>with approximated derivatives</h4>\n",
    "Number of iterations: $10$<br>\n",
    "final iterate $x_k=[1, 1]$<br>\n",
    "remaining gradient norm: $5.6905\\cdot 10^{-8}$<br>\n",
    "distance to true solution: $4.6953\\cdot 10^{-9}$"
   ]
  },
  {
   "cell_type": "markdown",
   "id": "94be2a67-ea5f-4caf-bd7b-6733e06d3427",
   "metadata": {},
   "source": [
    "<h3>Problem 2 with $x_0 = (-0.2, 1.2)$</h3>\n",
    "<h4>with exact derivatives</h4>\n",
    "Number of iterations: $6$<br>\n",
    "final iterate $x_k=[-4.7128\\cdot 10^{-14}, 1]$<br>\n",
    "remaining gradient norm: $1.4029\\cdot 10^{-11}$<br>\n",
    "distance to true solution: $8.4708\\cdot 10^{-14}$<br>\n",
    "\n",
    "<h4>with approximated derivatives</h4>\n",
    "Number of iterations: $6$<br>\n",
    "final iterate $x_k=[-9.6774\\cdot 10^{-14}, 1]$<br>\n",
    "remaining gradient norm: $1.4024\\cdot 10^{-11}$<br>\n",
    "distance to true solution: $9.8431\\cdot 10^{-14}$"
   ]
  },
  {
   "cell_type": "markdown",
   "id": "6c2aa87b-f1df-41d7-833b-17dc3a989ad9",
   "metadata": {},
   "source": [
    "<h3>Problem 2 with $x_0 = (3.8, 0.1)$</h3>\n",
    "<h4>with exact derivatives</h4>\n",
    "Number of iterations: $6$<br>\n",
    "final iterate $x_k=[4, -4.8130\\cdot 10^{-17}]$<br>\n",
    "remaining gradient norm: $2.2383\\cdot 10^{-13}$<br>\n",
    "distance to true solution: $3.5530\\cdot 10^{-15}$<br>\n",
    "\n",
    "<h4>with approximated derivatives</h4>\n",
    "Number of iterations: $6$<br>\n",
    "final iterate $x_k=[4, -5.0097\\cdot 10^{-14}]$<br>\n",
    "remaining gradient norm: $2.2444\\cdot 10^{-13}$<br>\n",
    "distance to true solution: $1.3159\\cdot 10^{-13}$"
   ]
  },
  {
   "cell_type": "markdown",
   "id": "149a5020-e355-48e4-95c3-4184461cc15d",
   "metadata": {},
   "source": [
    "<h3>Problem 2 with $x_0 = (1.9, 0.6)$</h3>\n",
    "<h4>with exact derivatives</h4>\n",
    "Number of iterations: $7$<br>\n",
    "final iterate $x_k=[2.3054\\cdot 10^{-9}, 1]$<br>\n",
    "remaining gradient norm: $7.0546\\cdot 10^{-7}$<br>\n",
    "distance to true solution: $5.9734\\cdot 10^{-9}$<br>\n",
    "\n",
    "<h4>with approximated derivatives</h4>\n",
    "Number of iterations: $7$<br>\n",
    "final iterate $x_k=[2.3049\\cdot 10^{-9},1]$<br>\n",
    "remaining gradient norm: $7.0534\\cdot 10^{-7}$<br>\n",
    "distance to true solution: $5.9766\\cdot 10^{-9}$"
   ]
  },
  {
   "cell_type": "markdown",
   "id": "e64bfe1d-14ee-4b05-945d-6cbc17b4a397",
   "metadata": {},
   "source": [
    "<h2>Task 2. Linear CG</h2>"
   ]
  },
  {
   "cell_type": "markdown",
   "id": "6a9cceef-6bad-461e-8fe0-01ef680b6b39",
   "metadata": {
    "execution": {
     "iopub.execute_input": "2023-06-07T09:35:50.600936Z",
     "iopub.status.busy": "2023-06-07T09:35:50.600936Z",
     "iopub.status.idle": "2023-06-07T09:35:50.604440Z",
     "shell.execute_reply": "2023-06-07T09:35:50.603940Z",
     "shell.execute_reply.started": "2023-06-07T09:35:50.600936Z"
    }
   },
   "source": [
    "<h2>Task 3. Nonlinear CG</h2>"
   ]
  },
  {
   "cell_type": "markdown",
   "id": "576d6973-edec-4853-aa3f-4261490ab9a5",
   "metadata": {},
   "source": [
    "<h2>Task 4. Quasi-Newton methods</h2>"
   ]
  },
  {
   "cell_type": "markdown",
   "id": "d4314de3-a94a-4bee-9738-e94535494715",
   "metadata": {},
   "source": [
    "<h2>Task 5. Derivative approximation</h2>"
   ]
  },
  {
   "cell_type": "markdown",
   "id": "44c78d0b-d457-49b2-98b6-d3fa092eccba",
   "metadata": {},
   "source": [
    "<h2>Task 6. Outperforming Newton method with Quasi-Newton method</h2>"
   ]
  },
  {
   "cell_type": "code",
   "execution_count": null,
   "id": "d7502340-0f24-443c-9bbb-38e65d03afd5",
   "metadata": {},
   "outputs": [],
   "source": []
  }
 ],
 "metadata": {
  "kernelspec": {
   "display_name": "Python 3 (ipykernel)",
   "language": "python",
   "name": "python3"
  },
  "language_info": {
   "codemirror_mode": {
    "name": "ipython",
    "version": 3
   },
   "file_extension": ".py",
   "mimetype": "text/x-python",
   "name": "python",
   "nbconvert_exporter": "python",
   "pygments_lexer": "ipython3",
   "version": "3.9.7"
  }
 },
 "nbformat": 4,
 "nbformat_minor": 5
}
